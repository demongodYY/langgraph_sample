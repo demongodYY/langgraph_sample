{
 "cells": [
  {
   "cell_type": "code",
   "execution_count": 2,
   "id": "30f28213",
   "metadata": {},
   "outputs": [
    {
     "name": "stdout",
     "output_type": "stream",
     "text": [
      "Requirement already satisfied: langchain-mcp-adapters in /usr/local/Caskroom/miniconda/base/lib/python3.11/site-packages (0.1.7)\n",
      "Collecting langgraph\n",
      "  Downloading langgraph-0.4.8-py3-none-any.whl (152 kB)\n",
      "\u001b[2K     \u001b[38;2;114;156;31m━━━━━━━━━━━━━━━━━━━━━━━━━━━━━━━━━━━━━\u001b[0m \u001b[32m152.4/152.4 kB\u001b[0m \u001b[31m663.4 kB/s\u001b[0m eta \u001b[36m0:00:00\u001b[0m1m884.4 kB/s\u001b[0m eta \u001b[36m0:00:01\u001b[0m\n",
      "\u001b[?25hCollecting langchain[openai]\n",
      "  Downloading langchain-0.3.26-py3-none-any.whl (1.0 MB)\n",
      "\u001b[2K     \u001b[38;2;114;156;31m━━━━━━━━━━━━━━━━━━━━━━━━━━━━━━━━━━━━━━━━\u001b[0m \u001b[32m1.0/1.0 MB\u001b[0m \u001b[31m1.3 MB/s\u001b[0m eta \u001b[36m0:00:00\u001b[0mm eta \u001b[36m0:00:01\u001b[0m0:01\u001b[0m:01\u001b[0m0m\n",
      "\u001b[?25hRequirement already satisfied: langchain-core<0.4,>=0.3.36 in /usr/local/Caskroom/miniconda/base/lib/python3.11/site-packages (from langchain-mcp-adapters) (0.3.66)\n",
      "Requirement already satisfied: mcp>=1.9.2 in /usr/local/Caskroom/miniconda/base/lib/python3.11/site-packages (from langchain-mcp-adapters) (1.9.4)\n",
      "Collecting langgraph-checkpoint>=2.0.26 (from langgraph)\n",
      "  Downloading langgraph_checkpoint-2.1.0-py3-none-any.whl (43 kB)\n",
      "\u001b[2K     \u001b[38;2;114;156;31m━━━━━━━━━━━━━━━━━━━━━━━━━━━━━━━━━━━━━━━━\u001b[0m \u001b[32m43.8/43.8 kB\u001b[0m \u001b[31m1.3 MB/s\u001b[0m eta \u001b[36m0:00:00\u001b[0m\n",
      "\u001b[?25hCollecting langgraph-prebuilt>=0.2.0 (from langgraph)\n",
      "  Downloading langgraph_prebuilt-0.2.2-py3-none-any.whl (23 kB)\n",
      "Collecting langgraph-sdk>=0.1.42 (from langgraph)\n",
      "  Downloading langgraph_sdk-0.1.70-py3-none-any.whl (49 kB)\n",
      "\u001b[2K     \u001b[38;2;114;156;31m━━━━━━━━━━━━━━━━━━━━━━━━━━━━━━━━━━━━━━━━\u001b[0m \u001b[32m50.0/50.0 kB\u001b[0m \u001b[31m1.5 MB/s\u001b[0m eta \u001b[36m0:00:00\u001b[0m\n",
      "\u001b[?25hRequirement already satisfied: pydantic>=2.7.4 in /usr/local/Caskroom/miniconda/base/lib/python3.11/site-packages (from langgraph) (2.11.7)\n",
      "Collecting xxhash>=3.5.0 (from langgraph)\n",
      "  Downloading xxhash-3.5.0-cp311-cp311-macosx_10_9_x86_64.whl (31 kB)\n",
      "Collecting langchain-text-splitters<1.0.0,>=0.3.8 (from langchain[openai])\n",
      "  Downloading langchain_text_splitters-0.3.8-py3-none-any.whl (32 kB)\n",
      "Requirement already satisfied: langsmith>=0.1.17 in /usr/local/Caskroom/miniconda/base/lib/python3.11/site-packages (from langchain[openai]) (0.4.1)\n",
      "Collecting SQLAlchemy<3,>=1.4 (from langchain[openai])\n",
      "  Downloading sqlalchemy-2.0.41-cp311-cp311-macosx_10_9_x86_64.whl (2.1 MB)\n",
      "\u001b[2K     \u001b[38;2;114;156;31m━━━━━━━━━━━━━━━━━━━━━━━━━━━━━━━━━━━━━━━━\u001b[0m \u001b[32m2.1/2.1 MB\u001b[0m \u001b[31m1.3 MB/s\u001b[0m eta \u001b[36m0:00:00\u001b[0mm eta \u001b[36m0:00:01\u001b[0m0:01\u001b[0m:01\u001b[0m0m\n",
      "\u001b[?25hRequirement already satisfied: requests<3,>=2 in /usr/local/Caskroom/miniconda/base/lib/python3.11/site-packages (from langchain[openai]) (2.29.0)\n",
      "Requirement already satisfied: PyYAML>=5.3 in /usr/local/Caskroom/miniconda/base/lib/python3.11/site-packages (from langchain[openai]) (6.0.2)\n",
      "Collecting langchain-openai (from langchain[openai])\n",
      "  Downloading langchain_openai-0.3.25-py3-none-any.whl (69 kB)\n",
      "\u001b[2K     \u001b[38;2;114;156;31m━━━━━━━━━━━━━━━━━━━━━━━━━━━━━━━━━━━━━━━━\u001b[0m \u001b[32m69.2/69.2 kB\u001b[0m \u001b[31m2.2 MB/s\u001b[0m eta \u001b[36m0:00:00\u001b[0m\n",
      "\u001b[?25hRequirement already satisfied: tenacity!=8.4.0,<10.0.0,>=8.1.0 in /usr/local/Caskroom/miniconda/base/lib/python3.11/site-packages (from langchain-core<0.4,>=0.3.36->langchain-mcp-adapters) (9.1.2)\n",
      "Requirement already satisfied: jsonpatch<2.0,>=1.33 in /usr/local/Caskroom/miniconda/base/lib/python3.11/site-packages (from langchain-core<0.4,>=0.3.36->langchain-mcp-adapters) (1.33)\n",
      "Requirement already satisfied: packaging<25,>=23.2 in /usr/local/Caskroom/miniconda/base/lib/python3.11/site-packages (from langchain-core<0.4,>=0.3.36->langchain-mcp-adapters) (24.2)\n",
      "Requirement already satisfied: typing-extensions>=4.7 in /usr/local/Caskroom/miniconda/base/lib/python3.11/site-packages (from langchain-core<0.4,>=0.3.36->langchain-mcp-adapters) (4.14.0)\n",
      "Collecting ormsgpack>=1.10.0 (from langgraph-checkpoint>=2.0.26->langgraph)\n",
      "  Downloading ormsgpack-1.10.0-cp311-cp311-macosx_10_12_x86_64.macosx_11_0_arm64.macosx_10_12_universal2.whl (376 kB)\n",
      "\u001b[2K     \u001b[38;2;114;156;31m━━━━━━━━━━━━━━━━━━━━━━━━━━━━━━━━━━━━━━━\u001b[0m \u001b[32m376.3/376.3 kB\u001b[0m \u001b[31m1.1 MB/s\u001b[0m eta \u001b[36m0:00:00\u001b[0m[36m0:00:01\u001b[0mm eta \u001b[36m0:00:01\u001b[0m\n",
      "\u001b[?25hRequirement already satisfied: httpx>=0.25.2 in /usr/local/Caskroom/miniconda/base/lib/python3.11/site-packages (from langgraph-sdk>=0.1.42->langgraph) (0.28.1)\n",
      "Requirement already satisfied: orjson>=3.10.1 in /usr/local/Caskroom/miniconda/base/lib/python3.11/site-packages (from langgraph-sdk>=0.1.42->langgraph) (3.10.18)\n",
      "Requirement already satisfied: requests-toolbelt<2.0.0,>=1.0.0 in /usr/local/Caskroom/miniconda/base/lib/python3.11/site-packages (from langsmith>=0.1.17->langchain[openai]) (1.0.0)\n",
      "Requirement already satisfied: zstandard<0.24.0,>=0.23.0 in /usr/local/Caskroom/miniconda/base/lib/python3.11/site-packages (from langsmith>=0.1.17->langchain[openai]) (0.23.0)\n",
      "Requirement already satisfied: anyio>=4.5 in /usr/local/Caskroom/miniconda/base/lib/python3.11/site-packages (from mcp>=1.9.2->langchain-mcp-adapters) (4.9.0)\n",
      "Requirement already satisfied: httpx-sse>=0.4 in /usr/local/Caskroom/miniconda/base/lib/python3.11/site-packages (from mcp>=1.9.2->langchain-mcp-adapters) (0.4.0)\n",
      "Requirement already satisfied: pydantic-settings>=2.5.2 in /usr/local/Caskroom/miniconda/base/lib/python3.11/site-packages (from mcp>=1.9.2->langchain-mcp-adapters) (2.10.0)\n",
      "Requirement already satisfied: python-multipart>=0.0.9 in /usr/local/Caskroom/miniconda/base/lib/python3.11/site-packages (from mcp>=1.9.2->langchain-mcp-adapters) (0.0.20)\n",
      "Requirement already satisfied: sse-starlette>=1.6.1 in /usr/local/Caskroom/miniconda/base/lib/python3.11/site-packages (from mcp>=1.9.2->langchain-mcp-adapters) (2.3.6)\n",
      "Requirement already satisfied: starlette>=0.27 in /usr/local/Caskroom/miniconda/base/lib/python3.11/site-packages (from mcp>=1.9.2->langchain-mcp-adapters) (0.47.1)\n",
      "Requirement already satisfied: uvicorn>=0.23.1 in /usr/local/Caskroom/miniconda/base/lib/python3.11/site-packages (from mcp>=1.9.2->langchain-mcp-adapters) (0.34.3)\n",
      "Requirement already satisfied: annotated-types>=0.6.0 in /usr/local/Caskroom/miniconda/base/lib/python3.11/site-packages (from pydantic>=2.7.4->langgraph) (0.7.0)\n",
      "Requirement already satisfied: pydantic-core==2.33.2 in /usr/local/Caskroom/miniconda/base/lib/python3.11/site-packages (from pydantic>=2.7.4->langgraph) (2.33.2)\n",
      "Requirement already satisfied: typing-inspection>=0.4.0 in /usr/local/Caskroom/miniconda/base/lib/python3.11/site-packages (from pydantic>=2.7.4->langgraph) (0.4.1)\n",
      "Requirement already satisfied: charset-normalizer<4,>=2 in /usr/local/Caskroom/miniconda/base/lib/python3.11/site-packages (from requests<3,>=2->langchain[openai]) (2.0.4)\n",
      "Requirement already satisfied: idna<4,>=2.5 in /usr/local/Caskroom/miniconda/base/lib/python3.11/site-packages (from requests<3,>=2->langchain[openai]) (3.4)\n",
      "Requirement already satisfied: urllib3<1.27,>=1.21.1 in /usr/local/Caskroom/miniconda/base/lib/python3.11/site-packages (from requests<3,>=2->langchain[openai]) (1.26.16)\n",
      "Requirement already satisfied: certifi>=2017.4.17 in /usr/local/Caskroom/miniconda/base/lib/python3.11/site-packages (from requests<3,>=2->langchain[openai]) (2025.6.15)\n",
      "Collecting greenlet>=1 (from SQLAlchemy<3,>=1.4->langchain[openai])\n",
      "  Downloading greenlet-3.2.3.tar.gz (185 kB)\n",
      "\u001b[2K     \u001b[38;2;114;156;31m━━━━━━━━━━━━━━━━━━━━━━━━━━━━━━━━━━━━━\u001b[0m \u001b[32m185.8/185.8 kB\u001b[0m \u001b[31m750.7 kB/s\u001b[0m eta \u001b[36m0:00:00\u001b[0mm eta \u001b[36m0:00:01\u001b[0m[36m0:00:01\u001b[0m\n",
      "\u001b[?25h  Installing build dependencies ... \u001b[?25ldone\n",
      "\u001b[?25h  Getting requirements to build wheel ... \u001b[?25ldone\n",
      "\u001b[?25h  Preparing metadata (pyproject.toml) ... \u001b[?25ldone\n",
      "\u001b[?25hCollecting openai<2.0.0,>=1.86.0 (from langchain-openai->langchain[openai])\n",
      "  Downloading openai-1.91.0-py3-none-any.whl (735 kB)\n",
      "\u001b[2K     \u001b[38;2;114;156;31m━━━━━━━━━━━━━━━━━━━━━━━━━━━━━━━━━━━━━━━\u001b[0m \u001b[32m735.8/735.8 kB\u001b[0m \u001b[31m1.1 MB/s\u001b[0m eta \u001b[36m0:00:00\u001b[0mm eta \u001b[36m0:00:01\u001b[0m[36m0:00:01\u001b[0m\n",
      "\u001b[?25hCollecting tiktoken<1,>=0.7 (from langchain-openai->langchain[openai])\n",
      "  Downloading tiktoken-0.9.0-cp311-cp311-macosx_10_12_x86_64.whl (1.1 MB)\n",
      "\u001b[2K     \u001b[38;2;114;156;31m━━━━━━━━━━━━━━━━━━━━━━━━━━━━━━━━━━━━━━━━\u001b[0m \u001b[32m1.1/1.1 MB\u001b[0m \u001b[31m996.8 kB/s\u001b[0m eta \u001b[36m0:00:00\u001b[0meta \u001b[36m0:00:01\u001b[0m[36m0:00:01\u001b[0m0m\n",
      "\u001b[?25hRequirement already satisfied: sniffio>=1.1 in /usr/local/Caskroom/miniconda/base/lib/python3.11/site-packages (from anyio>=4.5->mcp>=1.9.2->langchain-mcp-adapters) (1.3.1)\n",
      "Requirement already satisfied: httpcore==1.* in /usr/local/Caskroom/miniconda/base/lib/python3.11/site-packages (from httpx>=0.25.2->langgraph-sdk>=0.1.42->langgraph) (1.0.9)\n",
      "Requirement already satisfied: h11>=0.16 in /usr/local/Caskroom/miniconda/base/lib/python3.11/site-packages (from httpcore==1.*->httpx>=0.25.2->langgraph-sdk>=0.1.42->langgraph) (0.16.0)\n",
      "Requirement already satisfied: jsonpointer>=1.9 in /usr/local/Caskroom/miniconda/base/lib/python3.11/site-packages (from jsonpatch<2.0,>=1.33->langchain-core<0.4,>=0.3.36->langchain-mcp-adapters) (2.1)\n",
      "Collecting distro<2,>=1.7.0 (from openai<2.0.0,>=1.86.0->langchain-openai->langchain[openai])\n",
      "  Downloading distro-1.9.0-py3-none-any.whl (20 kB)\n",
      "Collecting jiter<1,>=0.4.0 (from openai<2.0.0,>=1.86.0->langchain-openai->langchain[openai])\n",
      "  Downloading jiter-0.10.0-cp311-cp311-macosx_10_12_x86_64.whl (317 kB)\n",
      "\u001b[2K     \u001b[38;2;114;156;31m━━━━━━━━━━━━━━━━━━━━━━━━━━━━━━━━━━━━━\u001b[0m \u001b[32m317.5/317.5 kB\u001b[0m \u001b[31m793.5 kB/s\u001b[0m eta \u001b[36m0:00:00\u001b[0mm eta \u001b[36m0:00:01\u001b[0m[36m0:00:01\u001b[0m\n",
      "\u001b[?25hRequirement already satisfied: tqdm>4 in /usr/local/Caskroom/miniconda/base/lib/python3.11/site-packages (from openai<2.0.0,>=1.86.0->langchain-openai->langchain[openai]) (4.65.0)\n",
      "Requirement already satisfied: python-dotenv>=0.21.0 in /usr/local/Caskroom/miniconda/base/lib/python3.11/site-packages (from pydantic-settings>=2.5.2->mcp>=1.9.2->langchain-mcp-adapters) (1.1.1)\n",
      "Collecting regex>=2022.1.18 (from tiktoken<1,>=0.7->langchain-openai->langchain[openai])\n",
      "  Downloading regex-2024.11.6-cp311-cp311-macosx_10_9_x86_64.whl (287 kB)\n",
      "\u001b[2K     \u001b[38;2;114;156;31m━━━━━━━━━━━━━━━━━━━━━━━━━━━━━━━━━━━━━\u001b[0m \u001b[32m287.7/287.7 kB\u001b[0m \u001b[31m833.7 kB/s\u001b[0m eta \u001b[36m0:00:00\u001b[0m kB/s\u001b[0m eta \u001b[36m0:00:01\u001b[0m:01\u001b[0m\n",
      "\u001b[?25hRequirement already satisfied: click>=7.0 in /usr/local/Caskroom/miniconda/base/lib/python3.11/site-packages (from uvicorn>=0.23.1->mcp>=1.9.2->langchain-mcp-adapters) (8.2.1)\n",
      "Building wheels for collected packages: greenlet\n",
      "  Building wheel for greenlet (pyproject.toml) ... \u001b[?25ldone\n",
      "\u001b[?25h  Created wheel for greenlet: filename=greenlet-3.2.3-cp311-cp311-macosx_10_9_x86_64.whl size=219558 sha256=795e57467b8fa76069934ec6cee8a94164bd2d3bb83a6b3c08cc8d703d1c8f40\n",
      "  Stored in directory: /Users/qi.yu/Library/Caches/pip/wheels/f6/40/16/b1d8611a2e30fa00ba55da1862ceb2b9a1dd5473c94109cf4c\n",
      "Successfully built greenlet\n",
      "Installing collected packages: xxhash, regex, ormsgpack, jiter, greenlet, distro, tiktoken, SQLAlchemy, openai, langgraph-sdk, langgraph-checkpoint, langchain-text-splitters, langchain-openai, langgraph-prebuilt, langchain, langgraph\n",
      "Successfully installed SQLAlchemy-2.0.41 distro-1.9.0 greenlet-3.2.3 jiter-0.10.0 langchain-0.3.26 langchain-openai-0.3.25 langchain-text-splitters-0.3.8 langgraph-0.4.8 langgraph-checkpoint-2.1.0 langgraph-prebuilt-0.2.2 langgraph-sdk-0.1.70 openai-1.91.0 ormsgpack-1.10.0 regex-2024.11.6 tiktoken-0.9.0 xxhash-3.5.0\n"
     ]
    }
   ],
   "source": [
    "!pip install langchain-mcp-adapters langgraph \"langchain[openai]\""
   ]
  },
  {
   "cell_type": "code",
   "execution_count": 3,
   "id": "6978009f",
   "metadata": {},
   "outputs": [],
   "source": [
    "import os\n",
    "import getpass\n",
    "def _set_env(var: str):\n",
    "    if not os.environ.get(var):\n",
    "        os.environ[var] = getpass.getpass(f\"{var}: \")\n",
    "\n",
    "_set_env(\"OPENAI_API_KEY\")"
   ]
  },
  {
   "cell_type": "code",
   "execution_count": null,
   "id": "186635d1",
   "metadata": {},
   "outputs": [],
   "source": [
    "from langchain_mcp_adapters.client import MultiServerMCPClient\n",
    "from langgraph.prebuilt import create_react_agent\n",
    "\n",
    "client = MultiServerMCPClient(\n",
    "    {\n",
    "        \"honeycomb\": {\n",
    "            \"disabled\": False,\n",
    "            \"timeout\": 60,\n",
    "            \"command\": \"node\",\n",
    "            \"transport\": \"stdio\",\n",
    "             \"args\": [\n",
    "              \"/Users/qi.yu/Code/AIGC/honeycomb-mcp/build/index.mjs\"\n",
    "              ],\n",
    "              \"env\": {\n",
    "                \"HONEYCOMB_API_KEY\": \"qO8mPrbG1hTl4vAedyruoB\"\n",
    "              }\n",
    "        }\n",
    "    }\n",
    ")\n",
    "tools = await client.get_tools()\n",
    "agent = create_react_agent(\"openai:gpt-4.1\", tools)\n",
    "ds_response = await agent.ainvoke({\"messages\": \"What datasets in test env?\"})"
   ]
  },
  {
   "cell_type": "code",
   "execution_count": 7,
   "id": "46274a53",
   "metadata": {},
   "outputs": [
    {
     "name": "stdout",
     "output_type": "stream",
     "text": [
      "There are four datasets in the \"test\" environment:\n",
      "\n",
      "1. backend-for-frontend\n",
      "2. image-picker-nodejs\n",
      "3. phrase-picker-nodejs\n",
      "4. meminator-nodejs\n",
      "\n",
      "Let me know if you need details or analysis on any of these datasets.\n"
     ]
    }
   ],
   "source": [
    "print(ds_response[\"messages\"][-1].content)"
   ]
  },
  {
   "cell_type": "code",
   "execution_count": null,
   "id": "97abfca6",
   "metadata": {},
   "outputs": [],
   "source": []
  }
 ],
 "metadata": {
  "kernelspec": {
   "display_name": "base",
   "language": "python",
   "name": "python3"
  },
  "language_info": {
   "codemirror_mode": {
    "name": "ipython",
    "version": 3
   },
   "file_extension": ".py",
   "mimetype": "text/x-python",
   "name": "python",
   "nbconvert_exporter": "python",
   "pygments_lexer": "ipython3",
   "version": "3.11.4"
  }
 },
 "nbformat": 4,
 "nbformat_minor": 5
}
