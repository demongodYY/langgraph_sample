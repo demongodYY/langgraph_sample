{
 "cells": [
  {
   "cell_type": "markdown",
   "id": "13cd1c3e",
   "metadata": {},
   "source": [
    "[![Open in Colab](https://colab.research.google.com/assets/colab-badge.svg)](https://colab.research.google.com/github/langchain-ai/langchain-academy/blob/main/module-1/agent-memory.ipynb) [![Open in LangChain Academy](https://cdn.prod.website-files.com/65b8cd72835ceeacd4449a53/66e9eba12c7b7688aa3dbb5e_LCA-badge-green.svg)](https://academy.langchain.com/courses/take/intro-to-langgraph/lessons/58239417-lesson-7-agent-with-memory)"
   ]
  },
  {
   "cell_type": "markdown",
   "id": "3ad3d458",
   "metadata": {},
   "source": [
    "# 一个 Production ready 的 LLM 应用需要什么？\n",
    "\n",
    "![](https://s.secrss.com/anquanneican/88aacf0eb55aec6f6e490af27c7fb41f.jpg)\n",
    "\n",
    "- 可解释性：面向 workflow 的开发如何确保可解释，让所有人理解流程里发生了什么？\n",
    "- 可依赖性：如何 Debug，测试和监控，确保 LLM 应用的表现稳定？\n",
    "- 可控制性：如何精细控制流程，让 LLM 应用可以更好的与人类协作？\n",
    "- 并行开发：如何拆分任务，让多人合作完成开发？"
   ]
  },
  {
   "cell_type": "code",
   "execution_count": 60,
   "id": "d2b4b45b-cbaa-41b1-b3ed-f6b0645be3f9",
   "metadata": {},
   "outputs": [],
   "source": [
    "%%capture --no-stderr\n",
    "%pip install --quiet -U langchain_openai langchain_core langgraph langgraph-prebuilt tavily-python pygraphviz"
   ]
  },
  {
   "cell_type": "markdown",
   "id": "a249afbc",
   "metadata": {},
   "source": [
    "# 什么是 Graph?\n",
    " - Node\n",
    " - Edge\n",
    " - Conditional Edge\n",
    " - State"
   ]
  },
  {
   "cell_type": "markdown",
   "id": "50bb2a99",
   "metadata": {},
   "source": [
    "![Screenshot 2024-08-21 at 9.24.09 AM.png](https://cdn.prod.website-files.com/65b8cd72835ceeacd4449a53/66dbac6543c3d4df239a4ed1_router1.png)"
   ]
  },
  {
   "cell_type": "markdown",
   "id": "98f95209",
   "metadata": {},
   "source": [
    "![image](https://miro.medium.com/v2/resize:fit:809/1*RgNdI_eu8Hfu4fSL9p6BFQ.png)"
   ]
  },
  {
   "cell_type": "markdown",
   "id": "b5889b15",
   "metadata": {},
   "source": [
    "![](https://media.beehiiv.com/cdn-cgi/image/fit=scale-down,format=auto,onerror=redirect,quality=80/uploads/asset/file/27562e9e-e284-439d-b6cb-5996e2f2baa9/image.png?t=1714763681)"
   ]
  },
  {
   "cell_type": "markdown",
   "id": "a72b3324",
   "metadata": {},
   "source": [
    "![image](https://d2908q01vomqb2.cloudfront.net/f1f836cb4ea6efb2a0b1b99f41ad8b103eff4b59/2024/12/16/Multi-agent-orchestration-and-reasoning.png)"
   ]
  },
  {
   "cell_type": "code",
   "execution_count": 61,
   "id": "6091245b",
   "metadata": {},
   "outputs": [],
   "source": [
    "from typing_extensions import TypedDict\n",
    "\n",
    "class State(TypedDict):\n",
    "    graph_state: str"
   ]
  },
  {
   "cell_type": "code",
   "execution_count": 62,
   "id": "72ad3a56",
   "metadata": {},
   "outputs": [],
   "source": [
    "def node_1(state):\n",
    "    print(\"---Node 1---\")\n",
    "    return {\"graph_state\": state['graph_state'] +\" I am\"}\n",
    "\n",
    "def node_2(state):\n",
    "    print(\"---Node 2---\")\n",
    "    return {\"graph_state\": state['graph_state'] +\" happy!\"}\n",
    "\n",
    "def node_3(state):\n",
    "    print(\"---Node 3---\")\n",
    "    return {\"graph_state\": state['graph_state'] +\" sad!\"}"
   ]
  },
  {
   "cell_type": "code",
   "execution_count": 63,
   "id": "ebed7b93",
   "metadata": {},
   "outputs": [],
   "source": [
    "import random\n",
    "from typing import Literal\n",
    "\n",
    "def decide_mood(state) -> Literal[\"node_2\", \"node_3\"]:\n",
    "    \n",
    "    # Often, we will use state to decide on the next node to visit\n",
    "    user_input = state['graph_state'] \n",
    "    \n",
    "    # Here, let's just do a 50 / 50 split between nodes 2, 3\n",
    "    if random.random() < 0.5:\n",
    "\n",
    "        # 50% of the time, we return Node 2\n",
    "        return \"node_2\"\n",
    "    \n",
    "    # 50% of the time, we return Node 3\n",
    "    return \"node_3\""
   ]
  },
  {
   "cell_type": "code",
   "execution_count": 64,
   "id": "7ba55ada",
   "metadata": {},
   "outputs": [
    {
     "data": {
      "image/png": "[encoded data removed]",
      "text/plain": [
       "<IPython.core.display.Image object>"
      ]
     },
     "metadata": {},
     "output_type": "display_data"
    }
   ],
   "source": [
    "from IPython.display import Image, display\n",
    "from langgraph.graph import StateGraph, START, END\n",
    "\n",
    "# Build graph\n",
    "builder = StateGraph(State)\n",
    "builder.add_node(\"node_1\", node_1)\n",
    "builder.add_node(\"node_2\", node_2)\n",
    "builder.add_node(\"node_3\", node_3)\n",
    "\n",
    "# Logic\n",
    "builder.add_edge(START, \"node_1\")\n",
    "builder.add_conditional_edges(\"node_1\", decide_mood)\n",
    "builder.add_edge(\"node_2\", END)\n",
    "builder.add_edge(\"node_3\", END)\n",
    "\n",
    "# Add\n",
    "graph = builder.compile()\n",
    "\n",
    "# View\n",
    "display(Image(graph.get_graph().draw_mermaid_png()))"
   ]
  },
  {
   "cell_type": "code",
   "execution_count": 67,
   "id": "0380a795",
   "metadata": {},
   "outputs": [
    {
     "name": "stdout",
     "output_type": "stream",
     "text": [
      "---Node 1---\n",
      "---Node 2---\n"
     ]
    },
    {
     "data": {
      "text/plain": [
       "{'graph_state': 'Hi, this is YQ. I am happy!'}"
      ]
     },
     "execution_count": 67,
     "metadata": {},
     "output_type": "execute_result"
    }
   ],
   "source": [
    "graph.invoke({\"graph_state\" : \"Hi, this is YQ.\"})"
   ]
  },
  {
   "cell_type": "markdown",
   "id": "ab732ee1",
   "metadata": {},
   "source": [
    "# LangGraph 构建的简单 Agent"
   ]
  },
  {
   "cell_type": "code",
   "execution_count": 2,
   "id": "2b0cfa99",
   "metadata": {},
   "outputs": [],
   "source": [
    "import os, getpass\n",
    "\n",
    "def _set_env(var: str):\n",
    "    if not os.environ.get(var):\n",
    "        os.environ[var] = getpass.getpass(f\"{var}: \")\n",
    "\n",
    "_set_env(\"OPENAI_API_KEY\")"
   ]
  },
  {
   "cell_type": "code",
   "execution_count": 69,
   "id": "b4297081",
   "metadata": {},
   "outputs": [
    {
     "name": "stdout",
     "output_type": "stream",
     "text": [
      "{'add': StructuredTool(name='add', description='Adds a and b.\\n\\n    Args:\\n        a: first int\\n        b: second int', args_schema=<class 'langchain_core.utils.pydantic.add'>, func=<function add at 0x119d837e0>), 'multiply': StructuredTool(name='multiply', description='Multiply a and b.\\n\\n    Args:\\n        a: first int\\n        b: second int', args_schema=<class 'langchain_core.utils.pydantic.multiply'>, func=<function multiply at 0x118cbc9a0>), 'divide': StructuredTool(name='divide', description='Divide a and b.\\n\\n    Args:\\n        a: first int\\n        b: second int', args_schema=<class 'langchain_core.utils.pydantic.divide'>, func=<function divide at 0x119d81620>)}\n"
     ]
    }
   ],
   "source": [
    "from langchain_core.tools import tool\n",
    "@tool\n",
    "def multiply(a: int, b: int) -> int:\n",
    "    \"\"\"Multiply a and b.\n",
    "\n",
    "    Args:\n",
    "        a: first int\n",
    "        b: second int\n",
    "    \"\"\"\n",
    "    return a * b\n",
    "\n",
    "@tool\n",
    "def add(a: int, b: int) -> int:\n",
    "    \"\"\"Adds a and b.\n",
    "\n",
    "    Args:\n",
    "        a: first int\n",
    "        b: second int\n",
    "    \"\"\"\n",
    "    return a + b\n",
    "@tool\n",
    "def divide(a: int, b: int) -> float:\n",
    "    \"\"\"Divide a and b.\n",
    "\n",
    "    Args:\n",
    "        a: first int\n",
    "        b: second int\n",
    "    \"\"\"\n",
    "    return a / b\n",
    "\n",
    "tools = [add, multiply, divide]\n",
    "tools_by_name = {}\n",
    "for tool_ in tools:\n",
    "    tools_by_name[tool_.name] = tool_\n",
    "print(tools_by_name)"
   ]
  },
  {
   "cell_type": "code",
   "execution_count": 70,
   "id": "a9092b40-20c4-4872-b0ed-be1b53a15ef3",
   "metadata": {},
   "outputs": [],
   "source": [
    "from langgraph.graph import MessagesState\n",
    "from langchain_core.messages import HumanMessage, SystemMessage, ToolMessage\n",
    "from langchain_openai import ChatOpenAI\n",
    "from langchain_core.tools import BaseTool\n",
    "\n",
    "llm = ChatOpenAI(model=\"gpt-4o\")\n",
    "llm_with_tools = llm.bind_tools(tools)\n",
    "\n",
    "# System message\n",
    "sys_msg = SystemMessage(content=\"You are a helpful assistant tasked with performing arithmetic on a set of inputs.\")\n",
    "\n",
    "# Node\n",
    "def assistant(state: MessagesState):\n",
    "   return {\"messages\": [llm_with_tools.invoke([sys_msg] + state[\"messages\"])]}\n",
    "\n",
    "\n",
    "def tools_node(state: MessagesState):\n",
    "   tool_calls = state[\"messages\"][-1].tool_calls\n",
    "   results = []\n",
    "\n",
    "   for t in tool_calls:\n",
    "      result = tools_by_name[t[\"name\"]].invoke(t[\"args\"])\n",
    "\n",
    "      message = ToolMessage(\n",
    "            content=str(result), tool_call_id=t[\"id\"], name=t[\"name\"]\n",
    "      )\n",
    "      results.append(message)\n",
    "   return {\"messages\": results}"
   ]
  },
  {
   "cell_type": "code",
   "execution_count": 71,
   "id": "771123a3-91ac-4076-92c0-93bcd69cf048",
   "metadata": {},
   "outputs": [
    {
     "data": {
      "image/png": "[encoded data removed]",
      "text/plain": [
       "<IPython.core.display.Image object>"
      ]
     },
     "metadata": {},
     "output_type": "display_data"
    }
   ],
   "source": [
    "from langgraph.graph import START, StateGraph\n",
    "from langgraph.prebuilt import tools_condition, ToolNode\n",
    "from IPython.display import Image, display\n",
    "\n",
    "# Graph\n",
    "builder = StateGraph(MessagesState)\n",
    "\n",
    "# Define nodes: these do the work\n",
    "builder.add_node(\"assistant\", assistant)\n",
    "builder.add_node(\"tools\", tools_node)\n",
    "\n",
    "# Define edges: these determine how the control flow moves\n",
    "builder.add_edge(START, \"assistant\")\n",
    "builder.add_conditional_edges(\n",
    "    \"assistant\",\n",
    "    # If the latest message (result) from assistant is a tool call -> tools_condition routes to tools\n",
    "    # If the latest message (result) from assistant is a not a tool call -> tools_condition routes to END\n",
    "    tools_condition,\n",
    ")\n",
    "builder.add_edge(\"tools\", \"assistant\")\n",
    "react_graph = builder.compile()\n",
    "\n",
    "# Show\n",
    "display(Image(react_graph.get_graph(xray=True).draw_mermaid_png()))"
   ]
  },
  {
   "cell_type": "code",
   "execution_count": 72,
   "id": "f69be612",
   "metadata": {},
   "outputs": [
    {
     "name": "stdout",
     "output_type": "stream",
     "text": [
      "================================\u001b[1m Human Message \u001b[0m=================================\n",
      "\n",
      "Add 3 and 4.\n",
      "==================================\u001b[1m Ai Message \u001b[0m==================================\n",
      "Tool Calls:\n",
      "  add (call_0cvQaUir6r8ANxkaNwRW5oW3)\n",
      " Call ID: call_0cvQaUir6r8ANxkaNwRW5oW3\n",
      "  Args:\n",
      "    a: 3\n",
      "    b: 4\n",
      "=================================\u001b[1m Tool Message \u001b[0m=================================\n",
      "Name: add\n",
      "\n",
      "7\n",
      "==================================\u001b[1m Ai Message \u001b[0m==================================\n",
      "\n",
      "The sum of 3 and 4 is 7.\n"
     ]
    }
   ],
   "source": [
    "messages = [HumanMessage(content=\"Add 3 and 4.\")]\n",
    "messages = react_graph.invoke({\"messages\": messages})\n",
    "for m in messages['messages']:\n",
    "    m.pretty_print()"
   ]
  },
  {
   "cell_type": "markdown",
   "id": "e830b7ae-3673-4cc6-8627-4740b7b8b217",
   "metadata": {},
   "source": [
    "## Memory\n",
    "\n",
    "先跑一下之前的例子"
   ]
  },
  {
   "cell_type": "code",
   "execution_count": 73,
   "id": "596a71a0-1337-44d4-971d-f80c367bd868",
   "metadata": {},
   "outputs": [
    {
     "name": "stdout",
     "output_type": "stream",
     "text": [
      "================================\u001b[1m Human Message \u001b[0m=================================\n",
      "\n",
      "Add 3 and 4.\n",
      "==================================\u001b[1m Ai Message \u001b[0m==================================\n",
      "Tool Calls:\n",
      "  add (call_ATaot5dlwtFuY9KsO8gzCWYh)\n",
      " Call ID: call_ATaot5dlwtFuY9KsO8gzCWYh\n",
      "  Args:\n",
      "    a: 3\n",
      "    b: 4\n",
      "=================================\u001b[1m Tool Message \u001b[0m=================================\n",
      "Name: add\n",
      "\n",
      "7\n",
      "==================================\u001b[1m Ai Message \u001b[0m==================================\n",
      "\n",
      "The sum of 3 and 4 is 7.\n"
     ]
    }
   ],
   "source": [
    "messages = [HumanMessage(content=\"Add 3 and 4.\")]\n",
    "messages = react_graph.invoke({\"messages\": messages})\n",
    "for m in messages['messages']:\n",
    "    m.pretty_print()"
   ]
  },
  {
   "cell_type": "markdown",
   "id": "92f8128c-f4a5-4dee-b20b-3245bd33f6b3",
   "metadata": {},
   "source": [
    "在原来结果上乘以 2!"
   ]
  },
  {
   "cell_type": "code",
   "execution_count": 74,
   "id": "b41cc1d7-e6de-4d86-8958-8cf7446f4c22",
   "metadata": {},
   "outputs": [
    {
     "name": "stdout",
     "output_type": "stream",
     "text": [
      "================================\u001b[1m Human Message \u001b[0m=================================\n",
      "\n",
      "Multiply that by 2.\n",
      "==================================\u001b[1m Ai Message \u001b[0m==================================\n",
      "\n",
      "It seems like there is no specific number mentioned for the multiplication. Could you please provide a number to multiply by 2?\n"
     ]
    }
   ],
   "source": [
    "messages = [HumanMessage(content=\"Multiply that by 2.\")]\n",
    "messages = react_graph.invoke({\"messages\": messages})\n",
    "for m in messages['messages']:\n",
    "    m.pretty_print()"
   ]
  },
  {
   "cell_type": "code",
   "execution_count": 75,
   "id": "637fcd79-3896-42e4-9131-e03b123a0a90",
   "metadata": {},
   "outputs": [],
   "source": [
    "from langgraph.checkpoint.memory import MemorySaver\n",
    "memory = MemorySaver()\n",
    "react_graph_memory = builder.compile(checkpointer=memory)"
   ]
  },
  {
   "cell_type": "code",
   "execution_count": 76,
   "id": "f722a1d6-e73c-4023-86ed-8b07d392278d",
   "metadata": {},
   "outputs": [
    {
     "name": "stdout",
     "output_type": "stream",
     "text": [
      "================================\u001b[1m Human Message \u001b[0m=================================\n",
      "\n",
      "Add 3 and 4.\n",
      "==================================\u001b[1m Ai Message \u001b[0m==================================\n",
      "Tool Calls:\n",
      "  add (call_S6ckhFoSQjSaA26zYoIFlhOX)\n",
      " Call ID: call_S6ckhFoSQjSaA26zYoIFlhOX\n",
      "  Args:\n",
      "    a: 3\n",
      "    b: 4\n",
      "=================================\u001b[1m Tool Message \u001b[0m=================================\n",
      "Name: add\n",
      "\n",
      "7\n",
      "==================================\u001b[1m Ai Message \u001b[0m==================================\n",
      "\n",
      "The sum of 3 and 4 is 7.\n"
     ]
    }
   ],
   "source": [
    "# Specify a thread\n",
    "config = {\"configurable\": {\"thread_id\": \"1\"}}\n",
    "\n",
    "# Specify an input\n",
    "messages = [HumanMessage(content=\"Add 3 and 4.\")]\n",
    "\n",
    "# Run\n",
    "messages = react_graph_memory.invoke({\"messages\": messages},config)\n",
    "for m in messages['messages']:\n",
    "    m.pretty_print()"
   ]
  },
  {
   "cell_type": "code",
   "execution_count": 77,
   "id": "ee38c6ef-8bfb-4c66-9214-6f474c9b8451",
   "metadata": {},
   "outputs": [
    {
     "name": "stdout",
     "output_type": "stream",
     "text": [
      "================================\u001b[1m Human Message \u001b[0m=================================\n",
      "\n",
      "Add 3 and 4.\n",
      "==================================\u001b[1m Ai Message \u001b[0m==================================\n",
      "Tool Calls:\n",
      "  add (call_S6ckhFoSQjSaA26zYoIFlhOX)\n",
      " Call ID: call_S6ckhFoSQjSaA26zYoIFlhOX\n",
      "  Args:\n",
      "    a: 3\n",
      "    b: 4\n",
      "=================================\u001b[1m Tool Message \u001b[0m=================================\n",
      "Name: add\n",
      "\n",
      "7\n",
      "==================================\u001b[1m Ai Message \u001b[0m==================================\n",
      "\n",
      "The sum of 3 and 4 is 7.\n",
      "================================\u001b[1m Human Message \u001b[0m=================================\n",
      "\n",
      "Multiply that by 2.\n",
      "==================================\u001b[1m Ai Message \u001b[0m==================================\n",
      "Tool Calls:\n",
      "  multiply (call_M2PeRqv2aJErg5Rro1ndpZxG)\n",
      " Call ID: call_M2PeRqv2aJErg5Rro1ndpZxG\n",
      "  Args:\n",
      "    a: 7\n",
      "    b: 2\n",
      "=================================\u001b[1m Tool Message \u001b[0m=================================\n",
      "Name: multiply\n",
      "\n",
      "14\n",
      "==================================\u001b[1m Ai Message \u001b[0m==================================\n",
      "\n",
      "The result of multiplying 7 by 2 is 14.\n"
     ]
    }
   ],
   "source": [
    "messages = [HumanMessage(content=\"Multiply that by 2.\")]\n",
    "messages = react_graph_memory.invoke({\"messages\": messages}, config)\n",
    "for m in messages['messages']:\n",
    "    m.pretty_print()"
   ]
  },
  {
   "cell_type": "markdown",
   "id": "b24d57d0",
   "metadata": {},
   "source": [
    "# Human In Loop"
   ]
  },
  {
   "cell_type": "code",
   "execution_count": 78,
   "id": "de29cf8c",
   "metadata": {},
   "outputs": [
    {
     "name": "stdout",
     "output_type": "stream",
     "text": [
      "message:\n",
      "================================\u001b[1m Human Message \u001b[0m=================================\n",
      "\n",
      "Multiply 2 and 3\n",
      "message:\n",
      "==================================\u001b[1m Ai Message \u001b[0m==================================\n",
      "Tool Calls:\n",
      "  multiply (call_USURgkp3WVnZn4SJ3afge4Tx)\n",
      " Call ID: call_USURgkp3WVnZn4SJ3afge4Tx\n",
      "  Args:\n",
      "    a: 2\n",
      "    b: 3\n",
      "message:\n",
      "=================================\u001b[1m Tool Message \u001b[0m=================================\n",
      "Name: multiply\n",
      "\n",
      "6\n",
      "message:\n",
      "==================================\u001b[1m Ai Message \u001b[0m==================================\n",
      "\n",
      "The result of multiplying 2 and 3 is 6.\n"
     ]
    }
   ],
   "source": [
    "# Input\n",
    "initial_input = {\"messages\": HumanMessage(content=\"Multiply 2 and 3\")}\n",
    "\n",
    "# Thread\n",
    "thread = {\"configurable\": {\"thread_id\": \"66\"}}\n",
    "\n",
    "for event in react_graph.stream(initial_input, thread, stream_mode=\"values\"):\n",
    "    print('message:')\n",
    "    event['messages'][-1].pretty_print()"
   ]
  },
  {
   "cell_type": "code",
   "execution_count": 79,
   "id": "df85b074",
   "metadata": {},
   "outputs": [],
   "source": [
    "# Node\n",
    "def confirm(state: MessagesState):\n",
    "   # System message\n",
    "   sys_msg = SystemMessage(content=\"What ever user asked, you should confirm it by a rhetorical question.\")\n",
    "\n",
    "   return {\"messages\": [llm_with_tools.invoke([sys_msg] + state[\"messages\"])]}"
   ]
  },
  {
   "cell_type": "code",
   "execution_count": 80,
   "id": "bd9248c4",
   "metadata": {},
   "outputs": [
    {
     "data": {
      "image/png": "[encoded data removed]",
      "text/plain": [
       "<IPython.core.display.Image object>"
      ]
     },
     "metadata": {},
     "output_type": "display_data"
    }
   ],
   "source": [
    "from langgraph.graph import START, StateGraph\n",
    "from langgraph.prebuilt import tools_condition\n",
    "from IPython.display import Image, display\n",
    "from langgraph.checkpoint.memory import MemorySaver\n",
    "\n",
    "# Graph\n",
    "builder = StateGraph(MessagesState)\n",
    "\n",
    "# Define nodes: these do the work\n",
    "builder.add_node(\"assistant\", assistant)\n",
    "builder.add_node(\"confirm\", confirm)\n",
    "builder.add_node(\"tools\", tools_node)\n",
    "\n",
    "# Define edges: these determine how the control flow moves\n",
    "builder.add_edge(START, \"confirm\")\n",
    "builder.add_edge(\"confirm\", \"assistant\")\n",
    "builder.add_conditional_edges(\n",
    "    \"assistant\",\n",
    "    # If the latest message (result) from assistant is a tool call -> tools_condition routes to tools\n",
    "    # If the latest message (result) from assistant is a not a tool call -> tools_condition routes to END\n",
    "    tools_condition,\n",
    ")\n",
    "builder.add_edge(\"tools\", \"assistant\")\n",
    "\n",
    "memory = MemorySaver()\n",
    "\n",
    "graph_with_breakpoint = builder.compile(interrupt_before=[\"assistant\"], checkpointer=memory)\n",
    "\n",
    "\n",
    "# Show\n",
    "display(Image(graph_with_breakpoint.get_graph(xray=True).draw_mermaid_png()))"
   ]
  },
  {
   "cell_type": "code",
   "execution_count": 81,
   "id": "6d72986c-ff6f-4f81-b585-d268e2710e53",
   "metadata": {},
   "outputs": [
    {
     "name": "stdout",
     "output_type": "stream",
     "text": [
      "================================\u001b[1m Human Message \u001b[0m=================================\n",
      "\n",
      "Multiply 2 and 3\n",
      "==================================\u001b[1m Ai Message \u001b[0m==================================\n",
      "\n",
      "Do you want to know the result of multiplying 2 and 3?\n"
     ]
    }
   ],
   "source": [
    "\n",
    "# Input\n",
    "initial_input = {\"messages\": HumanMessage(content=\"Multiply 2 and 3\")}\n",
    "\n",
    "\n",
    "# Thread\n",
    "thread = {\"configurable\": {\"thread_id\": \"65\"}}\n",
    "\n",
    "# Run the graph until the first interruption\n",
    "for event in graph_with_breakpoint.stream(initial_input, thread, stream_mode=\"values\"):\n",
    "    event['messages'][-1].pretty_print()"
   ]
  },
  {
   "cell_type": "code",
   "execution_count": 82,
   "id": "fc7ea0d0",
   "metadata": {},
   "outputs": [
    {
     "data": {
      "text/plain": [
       "('assistant',)"
      ]
     },
     "execution_count": 82,
     "metadata": {},
     "output_type": "execute_result"
    }
   ],
   "source": [
    "state = graph_with_breakpoint.get_state(thread)\n",
    "state.next"
   ]
  },
  {
   "cell_type": "code",
   "execution_count": 83,
   "id": "02824beb",
   "metadata": {},
   "outputs": [
    {
     "name": "stdout",
     "output_type": "stream",
     "text": [
      "================================\u001b[1m Human Message \u001b[0m=================================\n",
      "\n",
      "Multiply 2 and 3\n",
      "==================================\u001b[1m Ai Message \u001b[0m==================================\n",
      "\n",
      "Do you want to know the result of multiplying 2 and 3?\n"
     ]
    }
   ],
   "source": [
    "state = graph_with_breakpoint.get_state(thread).values\n",
    "for m in state['messages']:\n",
    "    m.pretty_print()"
   ]
  },
  {
   "cell_type": "code",
   "execution_count": 84,
   "id": "3599779a",
   "metadata": {},
   "outputs": [
    {
     "name": "stdout",
     "output_type": "stream",
     "text": [
      "================================\u001b[1m Human Message \u001b[0m=================================\n",
      "\n",
      "Multiply 2 and 3\n",
      "==================================\u001b[1m Ai Message \u001b[0m==================================\n",
      "\n",
      "Do you want to know the result of multiplying 2 and 3?\n",
      "================================\u001b[1m Human Message \u001b[0m=================================\n",
      "\n",
      "No, I want to get result of 2 add 8\n"
     ]
    }
   ],
   "source": [
    "graph_with_breakpoint.update_state(\n",
    "    thread,\n",
    "    {\"messages\": [HumanMessage(content=\"No, I want to get result of 2 add 8\")]},\n",
    ")\n",
    "\n",
    "new_state = graph_with_breakpoint.get_state(thread).values\n",
    "for m in new_state['messages']:\n",
    "    m.pretty_print()"
   ]
  },
  {
   "cell_type": "code",
   "execution_count": 85,
   "id": "45e928f0",
   "metadata": {},
   "outputs": [
    {
     "name": "stdout",
     "output_type": "stream",
     "text": [
      "================================\u001b[1m Human Message \u001b[0m=================================\n",
      "\n",
      "No, I want to get result of 2 add 8\n",
      "==================================\u001b[1m Ai Message \u001b[0m==================================\n",
      "Tool Calls:\n",
      "  multiply (call_zT7hCKyaKiuX1ILqjPHE81A2)\n",
      " Call ID: call_zT7hCKyaKiuX1ILqjPHE81A2\n",
      "  Args:\n",
      "    a: 2\n",
      "    b: 3\n",
      "  add (call_5EtgUqhd9BFaXriOxoekkASP)\n",
      " Call ID: call_5EtgUqhd9BFaXriOxoekkASP\n",
      "  Args:\n",
      "    a: 2\n",
      "    b: 8\n",
      "=================================\u001b[1m Tool Message \u001b[0m=================================\n",
      "Name: add\n",
      "\n",
      "10\n"
     ]
    }
   ],
   "source": [
    "for event in graph_with_breakpoint.stream(None, thread, stream_mode=\"values\"):\n",
    "    event['messages'][-1].pretty_print()"
   ]
  },
  {
   "cell_type": "code",
   "execution_count": 86,
   "id": "81705622",
   "metadata": {},
   "outputs": [
    {
     "name": "stdout",
     "output_type": "stream",
     "text": [
      "=================================\u001b[1m Tool Message \u001b[0m=================================\n",
      "Name: add\n",
      "\n",
      "10\n",
      "==================================\u001b[1m Ai Message \u001b[0m==================================\n",
      "\n",
      "The result of multiplying 2 and 3 is 6, and the result of adding 2 and 8 is 10.\n"
     ]
    }
   ],
   "source": [
    "for event in graph_with_breakpoint.stream(None, thread, stream_mode=\"values\"):\n",
    "    event['messages'][-1].pretty_print()"
   ]
  },
  {
   "cell_type": "markdown",
   "id": "4e1ab889",
   "metadata": {},
   "source": [
    "# 实际的例子\n",
    "\n",
    "Goal: 作为一个运维人员，当系统出现问题发出报警日志的时候，我想要能快速定位到问题的根源，并且能快速的修复问题。\n",
    "- 当报警日志发出的时候，可以总结调用链，并做出根因分析的建议，而不用我自己去翻看日志\n",
    "- 当我询问这个问题的时候，能自动上网搜索相关的解决方案，而不用我自己搜索\n",
    "- 当我发出指令的时候，可以自动执行相关的操作进行修复\n",
    "- 自动执行修复操作的时候，需要我的 review 和确认"
   ]
  },
  {
   "cell_type": "code",
   "execution_count": 87,
   "id": "48688eb1",
   "metadata": {},
   "outputs": [],
   "source": [
    "%%capture --no-stderr\n",
    "%pip install --quiet -U langgraph langchain_openai langchain_community langchain_core tavily-python"
   ]
  },
  {
   "cell_type": "code",
   "execution_count": 88,
   "id": "8ec0a6df",
   "metadata": {},
   "outputs": [],
   "source": [
    "import os\n",
    "import getpass\n",
    "def _set_env(var: str):\n",
    "    if not os.environ.get(var):\n",
    "        os.environ[var] = getpass.getpass(f\"{var}: \")\n",
    "\n",
    "_set_env(\"TAVILY_API_KEY\")\n",
    "_set_env(\"OPENAI_API_KEY\")"
   ]
  },
  {
   "cell_type": "code",
   "execution_count": 89,
   "id": "3d68da41",
   "metadata": {},
   "outputs": [],
   "source": [
    "# Web search tool\n",
    "from langchain_community.tools.tavily_search import TavilySearchResults\n",
    "tavily_search = TavilySearchResults(max_results=3)"
   ]
  },
  {
   "cell_type": "code",
   "execution_count": 90,
   "id": "290281e9",
   "metadata": {},
   "outputs": [],
   "source": [
    "alert_log=\"\"\"\n",
    "2025-04-07 14:32:17.521 [INFO] [http-nio-8080-exec-45]\n",
    "com.example.api.PaymentController - \n",
    "[UserAction] Received payment request: userId=U123094, amount=¥289.00, method=WeChatPay, clientIp=223.91.**.**\n",
    "\n",
    "2025-04-07 14:32:17.529 [DEBUG] [TransactionProcessor-Worker-14]\n",
    "com.example.payment.transaction.TransactionService - \n",
    "[InitTransaction] Initializing transaction for userId=U123094, cartId=C94833012\n",
    "\n",
    "2025-04-07 14:32:17.539 [INFO] [TransactionProcessor-Worker-14]\n",
    "com.example.payment.repository.TransactionRepository - \n",
    "[DB_WRITE] Inserting new transaction record: TXN-202504071432-889331245 into `payment_transaction` table\n",
    "\n",
    "2025-04-07 14:32:17.552 [DEBUG] [HikariCP-ConnectionPool-1]\n",
    "com.zaxxer.hikari.pool.HikariPool - \n",
    "[DB_POOL] Connection acquired in 4ms, thread=TransactionProcessor-Worker-14\n",
    "\n",
    "2025-04-07 14:32:17.575 [INFO] [TransactionProcessor-Worker-14]\n",
    "com.example.payment.gateway.ExternalGatewayClient - \n",
    "[GatewayRequest] Sending payment initiation to WeChatPay:\n",
    "  URL: https://api.wechatpay.cn/v1/payments\n",
    "  Method: POST\n",
    "  Payload: {\n",
    "    \"transaction_id\": \"TXN-202504071432-889331245\",\n",
    "    \"amount\": 28900,\n",
    "    \"currency\": \"CNY\",\n",
    "    \"user_id\": \"U123094\"\n",
    "  }\n",
    "  Headers: Authorization: Bearer ***\n",
    "\n",
    "2025-04-07 14:32:22.824 [ERROR] [TransactionProcessor-Worker-14]\n",
    "com.example.payment.gateway.ExternalGatewayClient - \n",
    "[Timeout] No response from WeChatPay gateway within 5000ms (requestId=GW-REQ-202504071432-1988301)\n",
    "\n",
    "2025-04-07 14:32:22.825 [WARN] [TransactionProcessor-Worker-14]\n",
    "com.example.payment.transaction.TransactionProcessor - \n",
    "[TransactionFailed] External payment initiation failed, retrying (attempt 1/3)\n",
    "\n",
    "2025-04-07 14:32:28.014 [ERROR] [TransactionProcessor-Worker-14]\n",
    "com.example.payment.transaction.TransactionProcessor - \n",
    "[TXN_PROC_503_TIMEOUT] Payment failed after 3 retries. Marking transaction as FAILED.\n",
    "TransactionId=TXN-202504071432-889331245, Error=ExternalGatewayTimeoutException\n",
    "\n",
    "2025-04-07 14:32:28.019 [INFO] [TransactionProcessor-Worker-14]\n",
    "com.example.payment.repository.TransactionRepository - \n",
    "[DB_UPDATE] Updating transaction status to FAILED for TXN-202504071432-889331245\n",
    "\n",
    "2025-04-07 14:32:28.024 [INFO] [http-nio-8080-exec-45]\n",
    "com.example.api.PaymentController - \n",
    "[Response] Returning failure response to client:\n",
    "  {\n",
    "    \"status\": \"failed\",\n",
    "    \"message\": \"支付请求超时，请稍后重试。\",\n",
    "    \"errorCode\": \"TXN_PROC_503_TIMEOUT\"\n",
    "  }\n",
    "\"\"\".strip()"
   ]
  },
  {
   "cell_type": "code",
   "execution_count": 91,
   "id": "8e43ccd1",
   "metadata": {},
   "outputs": [],
   "source": [
    "from langchain_openai import ChatOpenAI\n",
    "\n",
    "llm = ChatOpenAI(model=\"gpt-4o\", temperature=0.0)\n"
   ]
  },
  {
   "cell_type": "code",
   "execution_count": 92,
   "id": "0ea85f85",
   "metadata": {},
   "outputs": [],
   "source": [
    "# !pip install pygraphviz"
   ]
  },
  {
   "cell_type": "code",
   "execution_count": 94,
   "id": "5e4a04ad",
   "metadata": {},
   "outputs": [
    {
     "data": {
      "image/png": "[encoded data removed]",
      "text/plain": [
       "<IPython.core.display.Image object>"
      ]
     },
     "metadata": {},
     "output_type": "display_data"
    }
   ],
   "source": [
    "\n",
    "from langgraph.checkpoint.memory import MemorySaver\n",
    "from langchain_core.messages import (\n",
    "    HumanMessage,\n",
    "    ToolMessage,\n",
    "    AIMessage,\n",
    "    SystemMessage\n",
    ")\n",
    "from langchain_core.tools import tool\n",
    "from langgraph.graph import StateGraph, START, END, MessagesState\n",
    "from IPython.display import Image, display\n",
    "\n",
    "\n",
    "@tool\n",
    "def search_web(query: str):\n",
    "    \"\"\"Retrieve docs from web search\n",
    "\n",
    "    Args:\n",
    "        query: the question to search\n",
    "    \"\"\"\n",
    "\n",
    "    # Search\n",
    "    tavily_search = TavilySearchResults(max_results=3)\n",
    "\n",
    "    # Search query\n",
    "\n",
    "    # Search\n",
    "    search_docs = tavily_search.invoke(query)\n",
    "\n",
    "    # Format\n",
    "    formatted_search_docs = \"\\n\\n---\\n\\n\".join(\n",
    "        [\n",
    "            f'<Document href=\"{doc[\"url\"]}\"/>\\n{doc[\"content\"]}\\n</Document>'\n",
    "            for doc in search_docs\n",
    "        ]\n",
    "    )\n",
    "\n",
    "    return formatted_search_docs\n",
    "\n",
    "\n",
    "from langchain_openai import ChatOpenAI\n",
    "\n",
    "llm = ChatOpenAI(model=\"gpt-4o\")\n",
    "\n",
    "\n",
    "class AgentState(MessagesState):\n",
    "    log: str\n",
    "    summary: str\n",
    "\n",
    "class InputState(MessagesState):\n",
    "    log: str\n",
    "\n",
    "\n",
    "class Agent:\n",
    "    def __init__(self):\n",
    "        graph = StateGraph(AgentState, input=InputState, output=MessagesState)\n",
    "        self.tools = [search_web]\n",
    "\n",
    "        graph.add_node(\"init_summary\", self.init_summary_node)\n",
    "        graph.add_node(\"action_confirm\", self.action_confirm_node)\n",
    "        graph.add_node(\"query_agent\", self.query_agent_node)\n",
    "        graph.add_node(\"query_tools\", self.query_tools_node)\n",
    "        graph.add_node(\"action_taken\", self.action_taken_node)\n",
    "\n",
    "        graph.add_conditional_edges(\n",
    "            START,\n",
    "            self.is_action,\n",
    "            {\n",
    "                \"ACTION_INPUT\": \"action_confirm\",\n",
    "                \"QUERY_INPUT\": \"query_agent\",\n",
    "                \"INIT_SUMMARY\": \"init_summary\",\n",
    "            },\n",
    "        )\n",
    "        graph.add_edge(\"init_summary\", END)\n",
    "        graph.add_edge(\"action_confirm\", \"action_taken\")\n",
    "        graph.add_edge(\"action_taken\", END)\n",
    "        graph.add_conditional_edges(\n",
    "            \"query_agent\",\n",
    "            self.exists_tools_calling,\n",
    "            {True: \"query_tools\", False: END},\n",
    "        )\n",
    "        graph.add_edge(\"query_tools\", \"query_agent\")\n",
    "        self.graph = graph.compile(interrupt_before=[\"action_taken\"], checkpointer=MemorySaver())\n",
    "\n",
    "    def is_init_summary(self, state: AgentState):\n",
    "        if len(state[\"messages\"]) == 0:\n",
    "            return True\n",
    "        else:\n",
    "            return False\n",
    "\n",
    "    def init_summary_node(self, state: AgentState):\n",
    "        if \"summary\" not in state:\n",
    "            sumary_prompt = SystemMessage(\n",
    "                content=\"\"\"\n",
    "You are a system operation expert. You should read the log and summarize the system operation status.\n",
    "The summary should include:\n",
    "- Summary title\n",
    "- Situation summary\n",
    "- Call chain analyst\n",
    "- Root cause analysis \n",
    "\n",
    "Output should be conciese and clear, less than 300 words\n",
    "\"\"\".strip()\n",
    "            )\n",
    "            summary = llm.invoke([sumary_prompt, HumanMessage(content=state[\"log\"])])\n",
    "            return {\"summary\": summary.content, \"messages\": [summary]}\n",
    "        else:\n",
    "            return state\n",
    "\n",
    "    def is_action(self, state: AgentState):\n",
    "        if len(state[\"messages\"]) == 0:\n",
    "            return \"INIT_SUMMARY\"\n",
    "        classify_prompt = SystemMessage(\n",
    "            content=\"\"\"\n",
    "You are a smart assistant. You should classify the log into two categories: action and query.\n",
    "Only return the category name (query or action), nothing else.                                        \n",
    "\"\"\".strip()\n",
    "        )\n",
    "        result = llm.invoke([classify_prompt] + state[\"messages\"])\n",
    "        route_state = \"ACTION_INPUT\" if result.content == \"action\" else \"QUERY_INPUT\"\n",
    "        return route_state\n",
    "\n",
    "    def action_confirm_node(self, state: AgentState):\n",
    "        # System message\n",
    "        sys_msg = SystemMessage(\n",
    "            content=\"What ever user asked, you should confirm it by a rhetorical question and highlight the action should be taken.\"\n",
    "        )\n",
    "\n",
    "        return {\"messages\": [llm.invoke([sys_msg] + state[\"messages\"])]}\n",
    "\n",
    "    def action_taken_node(self, state: AgentState):\n",
    "        return {\"messages\": [AIMessage(content=\"Action done\")]}\n",
    "\n",
    "    def query_agent_node(self, state: AgentState):\n",
    "        sys_prompt = SystemMessage(\n",
    "            content=\"\"\"\n",
    "You are a system operation expert. You should troubleshooting and answer user's query.\n",
    "You should search on the web before you answer the question. If you can not find the answer, please say \"I don't know\".\n",
    "\n",
    "When answering questions, follow these guidelines:\n",
    "        \n",
    "1. Use only the information provided in the context. \n",
    "        \n",
    "2. Do not introduce external information or make assumptions beyond what is explicitly stated in the context.\n",
    "\n",
    "3. The context contain sources at the topic of each individual document.\n",
    "\n",
    "4. Include these sources your answer next to any relevant statements. For example, for source # 1 use [1]. \n",
    "\n",
    "5. List your sources in order at the bottom of your answer. [1] Source 1, [2] Source 2, etc\n",
    "        \n",
    "6. If the source is: <Document source=\"assistant/docs/llama3_1.pdf\" page=\"7\"/>' then just list: \n",
    "        \n",
    "[1] assistant/docs/llama3_1.pdf, page 7 \n",
    "        \n",
    "And skip the addition of the brackets as well as the Document source preamble in your citation.\n",
    "\"\"\".strip()\n",
    "        )\n",
    "\n",
    "        message = llm.bind_tools(self.tools).invoke([sys_prompt] + state[\"messages\"])\n",
    "\n",
    "        return {\"messages\": [message]}\n",
    "\n",
    "    def query_tools_node(self, state: AgentState):\n",
    "        tool_calls = state[\"messages\"][-1].tool_calls\n",
    "        results = []\n",
    "\n",
    "        for t in tool_calls:\n",
    "            print(f\"Calling: {t}\")\n",
    "            result = self.tools[0].invoke(t[\"args\"])\n",
    "            message = ToolMessage(\n",
    "                content=str(result), tool_call_id=t[\"id\"], name=t[\"name\"]\n",
    "            )\n",
    "            results.append(message)\n",
    "\n",
    "        return {\"messages\": results}\n",
    "\n",
    "    def exists_tools_calling(self, state: AgentState):\n",
    "        result = state[\"messages\"][-1]\n",
    "        return len(result.tool_calls) > 0\n",
    "\n",
    "log_agent = Agent()\n",
    "log_graph = log_agent.graph\n",
    "display(Image(log_graph.get_graph().draw_png()))"
   ]
  },
  {
   "cell_type": "markdown",
   "id": "69b6bb5e",
   "metadata": {},
   "source": [
    "## 单独运行测试某个节点"
   ]
  },
  {
   "cell_type": "code",
   "execution_count": 95,
   "id": "dae9ca71",
   "metadata": {},
   "outputs": [
    {
     "name": "stdout",
     "output_type": "stream",
     "text": [
      "==================================\u001b[1m Ai Message \u001b[0m==================================\n",
      "\n",
      "### System Operation Summary: Payment Processing Failure Incident\n",
      "\n",
      "**Situation Summary:**\n",
      "On April 7th, 2025, a payment transaction was initiated by a user (ID: U123094) for an amount of ¥289.00 via WeChatPay. The transaction went through initial stages but ultimately failed due to external gateway response issues.\n",
      "\n",
      "**Call Chain Analysis:**\n",
      "1. A payment request was received by `PaymentController`.\n",
      "2. `TransactionService` initialized the transaction with a unique ID.\n",
      "3. The transaction was recorded in the `payment_transaction` database.\n",
      "4. The `ExternalGatewayClient` sent a payment initiation request to the WeChatPay API.\n",
      "5. An error was encountered due to a timeout when no response was received from the WeChatPay gateway within 5000ms.\n",
      "6. The system retried the process three times before marking the transaction as failed.\n",
      "7. A failure response was returned to the client, indicating a timeout error.\n",
      "\n",
      "**Root Cause Analysis:**\n",
      "The problem originated from a lack of response from the WeChatPay gateway within the expected timeframe. This issue was exacerbated by repeated timeouts on initiation retries, suggesting potential connectivity issues or load problems on the WeChatPay provider's side. These resulted in a `503` timeout status, causing the transaction to fail after three unsuccessful attempts, and prompting a \"retry later\" message to the user.\n"
     ]
    }
   ],
   "source": [
    "result  = log_agent.init_summary_node({\"log\": alert_log})\n",
    "for m in result[\"messages\"]:\n",
    "    m.pretty_print()"
   ]
  },
  {
   "cell_type": "markdown",
   "id": "98fc9513",
   "metadata": {},
   "source": [
    "## Agent 运行"
   ]
  },
  {
   "cell_type": "code",
   "execution_count": 104,
   "id": "d1992edd",
   "metadata": {},
   "outputs": [
    {
     "name": "stdout",
     "output_type": "stream",
     "text": [
      "==================================\u001b[1m Ai Message \u001b[0m==================================\n",
      "\n",
      "**System Operation Summary**\n",
      "\n",
      "**Situation Summary:**\n",
      "On April 7, 2025, a payment transaction request was initiated by a user (userId=U123094) using WeChatPay for the amount of ¥289.00. The transaction process involved creating a new transaction record and then attempting to connect to the WeChatPay gateway to complete the payment. However, multiple retries failed due to timeouts, resulting in a transaction failure.\n",
      "\n",
      "**Call Chain Analysis:**\n",
      "1. **Initialization:** Payment request received by `PaymentController`.\n",
      "2. **Transaction Setup:** `TransactionService` starts the transaction for userId U123094 with cartId C94833012.\n",
      "3. **Database Operations:** Transaction record inserted into the `payment_transaction` table.\n",
      "4. **External Communication:** `ExternalGatewayClient` sends a payment initiation request to WeChatPay.\n",
      "5. **Failure Point:** No response from WeChatPay within 5000ms; retry attempted 3 times.\n",
      "6. **Final Outcome:** Transaction status updated to FAILED after 3 unsuccessful attempts.\n",
      "\n",
      "**Root Cause Analysis:**\n",
      "The primary issue was a connectivity timeout between the payment system and the WeChatPay gateway. The repeated failure to receive a response within the specified timeout period (5000ms) suggests potential network issues, service downtime on WeChatPay's end, or possibly a misconfiguration in the gateway communication settings. The retry logic implemented performed as expected but could not recover from the external service unavailability, thus leading to transaction failure and returning an error message to the client.\n",
      "\n",
      "Overall, this analysis highlights a need for an in-depth investigation into connectivity issues between the application and third-party services such as WeChatPay to mitigate future occurrences.\n"
     ]
    }
   ],
   "source": [
    "# Thread\n",
    "thread = {\"configurable\": {\"thread_id\": \"76\"}}\n",
    "# Input\n",
    "log_initial_input = {\"log\": alert_log}\n",
    "\n",
    "# Run the graph until the first interruption\n",
    "for event in log_graph.stream(log_initial_input, thread, stream_mode=\"values\"):\n",
    "    if(len(event['messages']) > 0):\n",
    "        for m in event['messages']:\n",
    "            m.pretty_print()"
   ]
  },
  {
   "cell_type": "code",
   "execution_count": 105,
   "id": "490682af",
   "metadata": {},
   "outputs": [
    {
     "name": "stdout",
     "output_type": "stream",
     "text": [
      "==================================\u001b[1m Ai Message \u001b[0m==================================\n",
      "\n",
      "**System Operation Summary**\n",
      "\n",
      "**Situation Summary:**\n",
      "On April 7, 2025, a payment transaction request was initiated by a user (userId=U123094) using WeChatPay for the amount of ¥289.00. The transaction process involved creating a new transaction record and then attempting to connect to the WeChatPay gateway to complete the payment. However, multiple retries failed due to timeouts, resulting in a transaction failure.\n",
      "\n",
      "**Call Chain Analysis:**\n",
      "1. **Initialization:** Payment request received by `PaymentController`.\n",
      "2. **Transaction Setup:** `TransactionService` starts the transaction for userId U123094 with cartId C94833012.\n",
      "3. **Database Operations:** Transaction record inserted into the `payment_transaction` table.\n",
      "4. **External Communication:** `ExternalGatewayClient` sends a payment initiation request to WeChatPay.\n",
      "5. **Failure Point:** No response from WeChatPay within 5000ms; retry attempted 3 times.\n",
      "6. **Final Outcome:** Transaction status updated to FAILED after 3 unsuccessful attempts.\n",
      "\n",
      "**Root Cause Analysis:**\n",
      "The primary issue was a connectivity timeout between the payment system and the WeChatPay gateway. The repeated failure to receive a response within the specified timeout period (5000ms) suggests potential network issues, service downtime on WeChatPay's end, or possibly a misconfiguration in the gateway communication settings. The retry logic implemented performed as expected but could not recover from the external service unavailability, thus leading to transaction failure and returning an error message to the client.\n",
      "\n",
      "Overall, this analysis highlights a need for an in-depth investigation into connectivity issues between the application and third-party services such as WeChatPay to mitigate future occurrences.\n",
      "================================\u001b[1m Human Message \u001b[0m=================================\n",
      "\n",
      "how to resolve this issue?\n",
      "==================================\u001b[1m Ai Message \u001b[0m==================================\n",
      "\n",
      "**System Operation Summary**\n",
      "\n",
      "**Situation Summary:**\n",
      "On April 7, 2025, a payment transaction request was initiated by a user (userId=U123094) using WeChatPay for the amount of ¥289.00. The transaction process involved creating a new transaction record and then attempting to connect to the WeChatPay gateway to complete the payment. However, multiple retries failed due to timeouts, resulting in a transaction failure.\n",
      "\n",
      "**Call Chain Analysis:**\n",
      "1. **Initialization:** Payment request received by `PaymentController`.\n",
      "2. **Transaction Setup:** `TransactionService` starts the transaction for userId U123094 with cartId C94833012.\n",
      "3. **Database Operations:** Transaction record inserted into the `payment_transaction` table.\n",
      "4. **External Communication:** `ExternalGatewayClient` sends a payment initiation request to WeChatPay.\n",
      "5. **Failure Point:** No response from WeChatPay within 5000ms; retry attempted 3 times.\n",
      "6. **Final Outcome:** Transaction status updated to FAILED after 3 unsuccessful attempts.\n",
      "\n",
      "**Root Cause Analysis:**\n",
      "The primary issue was a connectivity timeout between the payment system and the WeChatPay gateway. The repeated failure to receive a response within the specified timeout period (5000ms) suggests potential network issues, service downtime on WeChatPay's end, or possibly a misconfiguration in the gateway communication settings. The retry logic implemented performed as expected but could not recover from the external service unavailability, thus leading to transaction failure and returning an error message to the client.\n",
      "\n",
      "Overall, this analysis highlights a need for an in-depth investigation into connectivity issues between the application and third-party services such as WeChatPay to mitigate future occurrences.\n",
      "================================\u001b[1m Human Message \u001b[0m=================================\n",
      "\n",
      "how to resolve this issue?\n",
      "==================================\u001b[1m Ai Message \u001b[0m==================================\n",
      "Tool Calls:\n",
      "  search_web (call_lKgQbaxirtdTOH6GeoK0DI2V)\n",
      " Call ID: call_lKgQbaxirtdTOH6GeoK0DI2V\n",
      "  Args:\n",
      "    query: WeChatPay connection timeout troubleshooting\n",
      "Calling: {'name': 'search_web', 'args': {'query': 'WeChatPay connection timeout troubleshooting'}, 'id': 'call_lKgQbaxirtdTOH6GeoK0DI2V', 'type': 'tool_call'}\n",
      "==================================\u001b[1m Ai Message \u001b[0m==================================\n",
      "\n",
      "**System Operation Summary**\n",
      "\n",
      "**Situation Summary:**\n",
      "On April 7, 2025, a payment transaction request was initiated by a user (userId=U123094) using WeChatPay for the amount of ¥289.00. The transaction process involved creating a new transaction record and then attempting to connect to the WeChatPay gateway to complete the payment. However, multiple retries failed due to timeouts, resulting in a transaction failure.\n",
      "\n",
      "**Call Chain Analysis:**\n",
      "1. **Initialization:** Payment request received by `PaymentController`.\n",
      "2. **Transaction Setup:** `TransactionService` starts the transaction for userId U123094 with cartId C94833012.\n",
      "3. **Database Operations:** Transaction record inserted into the `payment_transaction` table.\n",
      "4. **External Communication:** `ExternalGatewayClient` sends a payment initiation request to WeChatPay.\n",
      "5. **Failure Point:** No response from WeChatPay within 5000ms; retry attempted 3 times.\n",
      "6. **Final Outcome:** Transaction status updated to FAILED after 3 unsuccessful attempts.\n",
      "\n",
      "**Root Cause Analysis:**\n",
      "The primary issue was a connectivity timeout between the payment system and the WeChatPay gateway. The repeated failure to receive a response within the specified timeout period (5000ms) suggests potential network issues, service downtime on WeChatPay's end, or possibly a misconfiguration in the gateway communication settings. The retry logic implemented performed as expected but could not recover from the external service unavailability, thus leading to transaction failure and returning an error message to the client.\n",
      "\n",
      "Overall, this analysis highlights a need for an in-depth investigation into connectivity issues between the application and third-party services such as WeChatPay to mitigate future occurrences.\n",
      "================================\u001b[1m Human Message \u001b[0m=================================\n",
      "\n",
      "how to resolve this issue?\n",
      "==================================\u001b[1m Ai Message \u001b[0m==================================\n",
      "Tool Calls:\n",
      "  search_web (call_lKgQbaxirtdTOH6GeoK0DI2V)\n",
      " Call ID: call_lKgQbaxirtdTOH6GeoK0DI2V\n",
      "  Args:\n",
      "    query: WeChatPay connection timeout troubleshooting\n",
      "=================================\u001b[1m Tool Message \u001b[0m=================================\n",
      "Name: search_web\n",
      "\n",
      "<Document href=\"https://www.silkpay.eu/blog/payment-error-messages-of-alipay-and-wechat-pay\"/>\n",
      "10. 网络连接异常 (wǎngluò liánjiē yìchàng): Abnormal network connection.\n",
      "\n",
      "This message is received by the customer and merchants.\n",
      "\n",
      "Solution: Check that the customer’s Internet connection is stable and try again. If the problem persists, the customer should contact WeChat Pay customer service for help.\n",
      "\n",
      "This is an error message from WeChat Pay. As a precaution, WeChat Pay does not allow to save a payment QR code as an image and pay by recognizing this image from phone photo album. [...] Solution: Check that you have a stable internet connection and that your WeChat Pay or Alipay account is fully funded. Or restart the transaction. After your customers confirm the transaction information, make sure they enter the payment password on time.If the problem persists, contact WeChat Pay customer service for assistance.\n",
      "\n",
      "2. 余额不足 (yú é bù zú): Insufficient balance\n",
      "\n",
      "This message is received by the customer. [...] Solution: The customer should check that they have entered the correct WeChat Pay password. If they forgot the password, reset it by following the instructions in the WeChat app.\n",
      "\n",
      "7. 交易超时 (jiāoyìchāoshí): The transaction expired :\n",
      "\n",
      "This message is received by the merchants\n",
      "</Document>\n",
      "\n",
      "---\n",
      "\n",
      "<Document href=\"https://pay.weixin.qq.com/wiki/doc/api/wxpay/en/pages/ico-guide/chapter1_6.shtml\"/>\n",
      "The error code at the start with 5 represents system errors. Such as interface exception or system processing timeout. It can be tried again by using the\n",
      "</Document>\n",
      "\n",
      "---\n",
      "\n",
      "<Document href=\"https://www.hongdaservice.com/blog/a-wechat-pay-issue-is-affecting-foreigners.-heres-how-to-fix-it\"/>\n",
      "Long story short, you have to cancel WeChat Pay and set it up all over again.  If this doesn't solve the problem, please contact WeChat support at 95017, choose 0 from the menu, then 9 for English.  They should be answering daily between 8 am to 6 pm.\n",
      "\n",
      "\n",
      "\n",
      "Here are the steps (this guidance is provided with the assumption that your WeChat pay was previously working fine and that you currently have a bank card linked to your WeChat account). [...] Hongda reached out to the WeChat support.  They explained:\n",
      "\n",
      "Recent upgrading of banking regulations by the government has led to some trouble with the new version of WeChat.\n",
      "\n",
      "How to fix the WeChat Pay issue?\n",
      "\n",
      "So, here's what you have to do to fix this problem if you are experiencing it. [...] Don't hesitate to contact\n",
      "\n",
      "Leave your message about the inquiries you have or book a meeting with Hongda for a free consultation.\n",
      "\n",
      "We will contact you shortly\n",
      "\n",
      "We will contact you as soon as possible. Please make sure that your contact information is correct!\n",
      "\n",
      "Hongda makes it easier for foreign investors to set up and run companies in China by taking away the pain of complex procedures for you.\n",
      "\n",
      "\n",
      "\n",
      "\n",
      "\n",
      "COMPANY\n",
      "\n",
      "About UsContact UsMeet The TeamPrivacy PolicyGlobal Services\n",
      "\n",
      "SOLUTIONS FOR BUSINESS\n",
      "</Document>\n",
      "==================================\u001b[1m Ai Message \u001b[0m==================================\n",
      "\n",
      "**System Operation Summary**\n",
      "\n",
      "**Situation Summary:**\n",
      "On April 7, 2025, a payment transaction request was initiated by a user (userId=U123094) using WeChatPay for the amount of ¥289.00. The transaction process involved creating a new transaction record and then attempting to connect to the WeChatPay gateway to complete the payment. However, multiple retries failed due to timeouts, resulting in a transaction failure.\n",
      "\n",
      "**Call Chain Analysis:**\n",
      "1. **Initialization:** Payment request received by `PaymentController`.\n",
      "2. **Transaction Setup:** `TransactionService` starts the transaction for userId U123094 with cartId C94833012.\n",
      "3. **Database Operations:** Transaction record inserted into the `payment_transaction` table.\n",
      "4. **External Communication:** `ExternalGatewayClient` sends a payment initiation request to WeChatPay.\n",
      "5. **Failure Point:** No response from WeChatPay within 5000ms; retry attempted 3 times.\n",
      "6. **Final Outcome:** Transaction status updated to FAILED after 3 unsuccessful attempts.\n",
      "\n",
      "**Root Cause Analysis:**\n",
      "The primary issue was a connectivity timeout between the payment system and the WeChatPay gateway. The repeated failure to receive a response within the specified timeout period (5000ms) suggests potential network issues, service downtime on WeChatPay's end, or possibly a misconfiguration in the gateway communication settings. The retry logic implemented performed as expected but could not recover from the external service unavailability, thus leading to transaction failure and returning an error message to the client.\n",
      "\n",
      "Overall, this analysis highlights a need for an in-depth investigation into connectivity issues between the application and third-party services such as WeChatPay to mitigate future occurrences.\n",
      "================================\u001b[1m Human Message \u001b[0m=================================\n",
      "\n",
      "how to resolve this issue?\n",
      "==================================\u001b[1m Ai Message \u001b[0m==================================\n",
      "Tool Calls:\n",
      "  search_web (call_lKgQbaxirtdTOH6GeoK0DI2V)\n",
      " Call ID: call_lKgQbaxirtdTOH6GeoK0DI2V\n",
      "  Args:\n",
      "    query: WeChatPay connection timeout troubleshooting\n",
      "=================================\u001b[1m Tool Message \u001b[0m=================================\n",
      "Name: search_web\n",
      "\n",
      "<Document href=\"https://www.silkpay.eu/blog/payment-error-messages-of-alipay-and-wechat-pay\"/>\n",
      "10. 网络连接异常 (wǎngluò liánjiē yìchàng): Abnormal network connection.\n",
      "\n",
      "This message is received by the customer and merchants.\n",
      "\n",
      "Solution: Check that the customer’s Internet connection is stable and try again. If the problem persists, the customer should contact WeChat Pay customer service for help.\n",
      "\n",
      "This is an error message from WeChat Pay. As a precaution, WeChat Pay does not allow to save a payment QR code as an image and pay by recognizing this image from phone photo album. [...] Solution: Check that you have a stable internet connection and that your WeChat Pay or Alipay account is fully funded. Or restart the transaction. After your customers confirm the transaction information, make sure they enter the payment password on time.If the problem persists, contact WeChat Pay customer service for assistance.\n",
      "\n",
      "2. 余额不足 (yú é bù zú): Insufficient balance\n",
      "\n",
      "This message is received by the customer. [...] Solution: The customer should check that they have entered the correct WeChat Pay password. If they forgot the password, reset it by following the instructions in the WeChat app.\n",
      "\n",
      "7. 交易超时 (jiāoyìchāoshí): The transaction expired :\n",
      "\n",
      "This message is received by the merchants\n",
      "</Document>\n",
      "\n",
      "---\n",
      "\n",
      "<Document href=\"https://pay.weixin.qq.com/wiki/doc/api/wxpay/en/pages/ico-guide/chapter1_6.shtml\"/>\n",
      "The error code at the start with 5 represents system errors. Such as interface exception or system processing timeout. It can be tried again by using the\n",
      "</Document>\n",
      "\n",
      "---\n",
      "\n",
      "<Document href=\"https://www.hongdaservice.com/blog/a-wechat-pay-issue-is-affecting-foreigners.-heres-how-to-fix-it\"/>\n",
      "Long story short, you have to cancel WeChat Pay and set it up all over again.  If this doesn't solve the problem, please contact WeChat support at 95017, choose 0 from the menu, then 9 for English.  They should be answering daily between 8 am to 6 pm.\n",
      "\n",
      "\n",
      "\n",
      "Here are the steps (this guidance is provided with the assumption that your WeChat pay was previously working fine and that you currently have a bank card linked to your WeChat account). [...] Hongda reached out to the WeChat support.  They explained:\n",
      "\n",
      "Recent upgrading of banking regulations by the government has led to some trouble with the new version of WeChat.\n",
      "\n",
      "How to fix the WeChat Pay issue?\n",
      "\n",
      "So, here's what you have to do to fix this problem if you are experiencing it. [...] Don't hesitate to contact\n",
      "\n",
      "Leave your message about the inquiries you have or book a meeting with Hongda for a free consultation.\n",
      "\n",
      "We will contact you shortly\n",
      "\n",
      "We will contact you as soon as possible. Please make sure that your contact information is correct!\n",
      "\n",
      "Hongda makes it easier for foreign investors to set up and run companies in China by taking away the pain of complex procedures for you.\n",
      "\n",
      "\n",
      "\n",
      "\n",
      "\n",
      "COMPANY\n",
      "\n",
      "About UsContact UsMeet The TeamPrivacy PolicyGlobal Services\n",
      "\n",
      "SOLUTIONS FOR BUSINESS\n",
      "</Document>\n",
      "==================================\u001b[1m Ai Message \u001b[0m==================================\n",
      "\n",
      "To resolve the issue with WeChatPay connection timeouts, you can follow these troubleshooting steps:\n",
      "\n",
      "1. **Check Network Stability:** Ensure that your internet connection is stable. A poor connection can lead to timeouts.\n",
      "\n",
      "2. **Retry Transaction:** As per WeChatPay guidelines, you can attempt to retry the transaction if a timeout occurs.\n",
      "\n",
      "3. **Verify Gateway Configuration:** Ensure that your application's configuration for connecting to WeChatPay is correct. Check for any updated documentation or configuration settings that might need adjustments.\n",
      "\n",
      "4. **Contact WeChat Pay Support:** If the issue persists, it might be due to a service outage or system update on WeChatPay's end. It's advisable to contact WeChat Pay customer service for further assistance.\n",
      "\n",
      "5. **Reconfigure WeChat Pay Setup:** In some cases, completely removing and re-setting up WeChat Pay can resolve the issue, especially if recent changes were made to banking regulations or WeChat's system [1][2][3].\n",
      "\n",
      "Sources:\n",
      "[1] https://www.silkpay.eu/blog/payment-error-messages-of-alipay-and-wechat-pay\n",
      "[2] https://pay.weixin.qq.com/wiki/doc/api/wxpay/en/pages/ico-guide/chapter1_6.shtml\n",
      "[3] https://www.hongdaservice.com/blog/a-wechat-pay-issue-is-affecting-foreigners.-heres-how-to-fix-it\n"
     ]
    }
   ],
   "source": [
    "for event in log_graph.stream({\"messages\":[HumanMessage(content=\"how to resolve this issue?\")]}, thread, stream_mode=\"values\"):\n",
    "    if(len(event['messages']) > 0):\n",
    "        for m in event['messages']:\n",
    "            m.pretty_print()"
   ]
  },
  {
   "cell_type": "code",
   "execution_count": 106,
   "id": "4d13ecb7",
   "metadata": {},
   "outputs": [
    {
     "data": {
      "text/markdown": [
       "To resolve the issue with WeChatPay connection timeouts, you can follow these troubleshooting steps:\n",
       "\n",
       "1. **Check Network Stability:** Ensure that your internet connection is stable. A poor connection can lead to timeouts.\n",
       "\n",
       "2. **Retry Transaction:** As per WeChatPay guidelines, you can attempt to retry the transaction if a timeout occurs.\n",
       "\n",
       "3. **Verify Gateway Configuration:** Ensure that your application's configuration for connecting to WeChatPay is correct. Check for any updated documentation or configuration settings that might need adjustments.\n",
       "\n",
       "4. **Contact WeChat Pay Support:** If the issue persists, it might be due to a service outage or system update on WeChatPay's end. It's advisable to contact WeChat Pay customer service for further assistance.\n",
       "\n",
       "5. **Reconfigure WeChat Pay Setup:** In some cases, completely removing and re-setting up WeChat Pay can resolve the issue, especially if recent changes were made to banking regulations or WeChat's system [1][2][3].\n",
       "\n",
       "Sources:\n",
       "[1] https://www.silkpay.eu/blog/payment-error-messages-of-alipay-and-wechat-pay\n",
       "[2] https://pay.weixin.qq.com/wiki/doc/api/wxpay/en/pages/ico-guide/chapter1_6.shtml\n",
       "[3] https://www.hongdaservice.com/blog/a-wechat-pay-issue-is-affecting-foreigners.-heres-how-to-fix-it"
      ],
      "text/plain": [
       "<IPython.core.display.Markdown object>"
      ]
     },
     "metadata": {},
     "output_type": "display_data"
    }
   ],
   "source": [
    "from IPython.display import display, Markdown\n",
    "display(Markdown(log_graph.get_state(thread).values['messages'][-1].content))"
   ]
  },
  {
   "cell_type": "markdown",
   "id": "657414b4",
   "metadata": {},
   "source": [
    "# 总结\n",
    "\n",
    "- 面向 workflow 的开发如何确保可解释性，让所有人理解发生了什么？  -> Langgraph 通过可视化 graph 编排的方式，展示每个节点的输入输出，以及每个节点之间边的关系，对其业务逻辑和实际开发的流程\n",
    "- 如何 Debug，测试和监控，确保 LLM 应用的表现稳定？ -> 在 Langgraph 中可以记录每个节点对状态的影响，从而针对性的测试和 debug\n",
    "- 如何精细控制流程，让 LLM 应用可以更好的与人类协作？ -> 在 Langgraph 中可以在节点间加入断点和条件，可以引入 Humman In Loop 的方式，来控制 LLM 的执行流程\n",
    "- 并行开发：如何拆分任务，让多人合作完成开发？ -> 在 Langgraph 中可以将不同的节点视作不同的函数，进行并行开发和测试"
   ]
  },
  {
   "cell_type": "code",
   "execution_count": null,
   "id": "407b0d0c",
   "metadata": {},
   "outputs": [
    {
     "ename": "BadRequestError",
     "evalue": "Error code: 400 - {'error': {'message': \"The requested model 'o1-preview' does not exist.\", 'type': 'invalid_request_error', 'param': 'model', 'code': 'model_not_found'}}",
     "output_type": "error",
     "traceback": [
      "\u001b[31m---------------------------------------------------------------------------\u001b[39m",
      "\u001b[31mBadRequestError\u001b[39m                           Traceback (most recent call last)",
      "\u001b[36mCell\u001b[39m\u001b[36m \u001b[39m\u001b[32mIn[29]\u001b[39m\u001b[32m, line 10\u001b[39m\n\u001b[32m      3\u001b[39m client = OpenAI()\n\u001b[32m      5\u001b[39m prompt = \u001b[33m\"\"\"\u001b[39m\n\u001b[32m      6\u001b[39m \u001b[33mWrite a bash script that takes a matrix represented as a string with \u001b[39m\n\u001b[32m      7\u001b[39m \u001b[33mformat \u001b[39m\u001b[33m'\u001b[39m\u001b[33m[1,2],[3,4],[5,6]\u001b[39m\u001b[33m'\u001b[39m\u001b[33m and prints the transpose in the same format.\u001b[39m\n\u001b[32m      8\u001b[39m \u001b[33m\"\"\"\u001b[39m\n\u001b[32m---> \u001b[39m\u001b[32m10\u001b[39m response = \u001b[43mclient\u001b[49m\u001b[43m.\u001b[49m\u001b[43mresponses\u001b[49m\u001b[43m.\u001b[49m\u001b[43mcreate\u001b[49m\u001b[43m(\u001b[49m\n\u001b[32m     11\u001b[39m \u001b[43m    \u001b[49m\u001b[43mmodel\u001b[49m\u001b[43m=\u001b[49m\u001b[33;43m\"\u001b[39;49m\u001b[33;43mo1-preview\u001b[39;49m\u001b[33;43m\"\u001b[39;49m\u001b[43m,\u001b[49m\n\u001b[32m     12\u001b[39m \u001b[43m    \u001b[49m\u001b[43mreasoning\u001b[49m\u001b[43m=\u001b[49m\u001b[43m{\u001b[49m\u001b[33;43m\"\u001b[39;49m\u001b[33;43meffort\u001b[39;49m\u001b[33;43m\"\u001b[39;49m\u001b[43m:\u001b[49m\u001b[43m \u001b[49m\u001b[33;43m\"\u001b[39;49m\u001b[33;43mmedium\u001b[39;49m\u001b[33;43m\"\u001b[39;49m\u001b[43m,\u001b[49m\u001b[33;43m\"\u001b[39;49m\u001b[33;43mgenerate_summary\u001b[39;49m\u001b[33;43m\"\u001b[39;49m\u001b[43m:\u001b[49m\u001b[33;43m\"\u001b[39;49m\u001b[33;43mdetailed\u001b[39;49m\u001b[33;43m\"\u001b[39;49m\u001b[43m}\u001b[49m\u001b[43m,\u001b[49m\n\u001b[32m     13\u001b[39m \u001b[43m    \u001b[49m\u001b[38;5;28;43minput\u001b[39;49m\u001b[43m=\u001b[49m\u001b[43m[\u001b[49m\n\u001b[32m     14\u001b[39m \u001b[43m        \u001b[49m\u001b[43m{\u001b[49m\n\u001b[32m     15\u001b[39m \u001b[43m            \u001b[49m\u001b[33;43m\"\u001b[39;49m\u001b[33;43mrole\u001b[39;49m\u001b[33;43m\"\u001b[39;49m\u001b[43m:\u001b[49m\u001b[43m \u001b[49m\u001b[33;43m\"\u001b[39;49m\u001b[33;43muser\u001b[39;49m\u001b[33;43m\"\u001b[39;49m\u001b[43m,\u001b[49m\u001b[43m \u001b[49m\n\u001b[32m     16\u001b[39m \u001b[43m            \u001b[49m\u001b[33;43m\"\u001b[39;49m\u001b[33;43mcontent\u001b[39;49m\u001b[33;43m\"\u001b[39;49m\u001b[43m:\u001b[49m\u001b[43m \u001b[49m\u001b[43mprompt\u001b[49m\n\u001b[32m     17\u001b[39m \u001b[43m        \u001b[49m\u001b[43m}\u001b[49m\n\u001b[32m     18\u001b[39m \u001b[43m    \u001b[49m\u001b[43m]\u001b[49m\n\u001b[32m     19\u001b[39m \u001b[43m)\u001b[49m\n\u001b[32m     20\u001b[39m \u001b[38;5;28mprint\u001b[39m(response.output_text)\n",
      "\u001b[36mFile \u001b[39m\u001b[32m~/Code/langchain-academy/.venv/lib/python3.12/site-packages/openai/_utils/_utils.py:279\u001b[39m, in \u001b[36mrequired_args.<locals>.inner.<locals>.wrapper\u001b[39m\u001b[34m(*args, **kwargs)\u001b[39m\n\u001b[32m    277\u001b[39m             msg = \u001b[33mf\u001b[39m\u001b[33m\"\u001b[39m\u001b[33mMissing required argument: \u001b[39m\u001b[38;5;132;01m{\u001b[39;00mquote(missing[\u001b[32m0\u001b[39m])\u001b[38;5;132;01m}\u001b[39;00m\u001b[33m\"\u001b[39m\n\u001b[32m    278\u001b[39m     \u001b[38;5;28;01mraise\u001b[39;00m \u001b[38;5;167;01mTypeError\u001b[39;00m(msg)\n\u001b[32m--> \u001b[39m\u001b[32m279\u001b[39m \u001b[38;5;28;01mreturn\u001b[39;00m \u001b[43mfunc\u001b[49m\u001b[43m(\u001b[49m\u001b[43m*\u001b[49m\u001b[43margs\u001b[49m\u001b[43m,\u001b[49m\u001b[43m \u001b[49m\u001b[43m*\u001b[49m\u001b[43m*\u001b[49m\u001b[43mkwargs\u001b[49m\u001b[43m)\u001b[49m\n",
      "\u001b[36mFile \u001b[39m\u001b[32m~/Code/langchain-academy/.venv/lib/python3.12/site-packages/openai/resources/responses/responses.py:603\u001b[39m, in \u001b[36mResponses.create\u001b[39m\u001b[34m(self, input, model, include, instructions, max_output_tokens, metadata, parallel_tool_calls, previous_response_id, reasoning, store, stream, temperature, text, tool_choice, tools, top_p, truncation, user, extra_headers, extra_query, extra_body, timeout)\u001b[39m\n\u001b[32m    574\u001b[39m \u001b[38;5;129m@required_args\u001b[39m([\u001b[33m\"\u001b[39m\u001b[33minput\u001b[39m\u001b[33m\"\u001b[39m, \u001b[33m\"\u001b[39m\u001b[33mmodel\u001b[39m\u001b[33m\"\u001b[39m], [\u001b[33m\"\u001b[39m\u001b[33minput\u001b[39m\u001b[33m\"\u001b[39m, \u001b[33m\"\u001b[39m\u001b[33mmodel\u001b[39m\u001b[33m\"\u001b[39m, \u001b[33m\"\u001b[39m\u001b[33mstream\u001b[39m\u001b[33m\"\u001b[39m])\n\u001b[32m    575\u001b[39m \u001b[38;5;28;01mdef\u001b[39;00m\u001b[38;5;250m \u001b[39m\u001b[34mcreate\u001b[39m(\n\u001b[32m    576\u001b[39m     \u001b[38;5;28mself\u001b[39m,\n\u001b[32m   (...)\u001b[39m\u001b[32m    601\u001b[39m     timeout: \u001b[38;5;28mfloat\u001b[39m | httpx.Timeout | \u001b[38;5;28;01mNone\u001b[39;00m | NotGiven = NOT_GIVEN,\n\u001b[32m    602\u001b[39m ) -> Response | Stream[ResponseStreamEvent]:\n\u001b[32m--> \u001b[39m\u001b[32m603\u001b[39m     \u001b[38;5;28;01mreturn\u001b[39;00m \u001b[38;5;28;43mself\u001b[39;49m\u001b[43m.\u001b[49m\u001b[43m_post\u001b[49m\u001b[43m(\u001b[49m\n\u001b[32m    604\u001b[39m \u001b[43m        \u001b[49m\u001b[33;43m\"\u001b[39;49m\u001b[33;43m/responses\u001b[39;49m\u001b[33;43m\"\u001b[39;49m\u001b[43m,\u001b[49m\n\u001b[32m    605\u001b[39m \u001b[43m        \u001b[49m\u001b[43mbody\u001b[49m\u001b[43m=\u001b[49m\u001b[43mmaybe_transform\u001b[49m\u001b[43m(\u001b[49m\n\u001b[32m    606\u001b[39m \u001b[43m            \u001b[49m\u001b[43m{\u001b[49m\n\u001b[32m    607\u001b[39m \u001b[43m                \u001b[49m\u001b[33;43m\"\u001b[39;49m\u001b[33;43minput\u001b[39;49m\u001b[33;43m\"\u001b[39;49m\u001b[43m:\u001b[49m\u001b[43m \u001b[49m\u001b[38;5;28;43minput\u001b[39;49m\u001b[43m,\u001b[49m\n\u001b[32m    608\u001b[39m \u001b[43m                \u001b[49m\u001b[33;43m\"\u001b[39;49m\u001b[33;43mmodel\u001b[39;49m\u001b[33;43m\"\u001b[39;49m\u001b[43m:\u001b[49m\u001b[43m \u001b[49m\u001b[43mmodel\u001b[49m\u001b[43m,\u001b[49m\n\u001b[32m    609\u001b[39m \u001b[43m                \u001b[49m\u001b[33;43m\"\u001b[39;49m\u001b[33;43minclude\u001b[39;49m\u001b[33;43m\"\u001b[39;49m\u001b[43m:\u001b[49m\u001b[43m \u001b[49m\u001b[43minclude\u001b[49m\u001b[43m,\u001b[49m\n\u001b[32m    610\u001b[39m \u001b[43m                \u001b[49m\u001b[33;43m\"\u001b[39;49m\u001b[33;43minstructions\u001b[39;49m\u001b[33;43m\"\u001b[39;49m\u001b[43m:\u001b[49m\u001b[43m \u001b[49m\u001b[43minstructions\u001b[49m\u001b[43m,\u001b[49m\n\u001b[32m    611\u001b[39m \u001b[43m                \u001b[49m\u001b[33;43m\"\u001b[39;49m\u001b[33;43mmax_output_tokens\u001b[39;49m\u001b[33;43m\"\u001b[39;49m\u001b[43m:\u001b[49m\u001b[43m \u001b[49m\u001b[43mmax_output_tokens\u001b[49m\u001b[43m,\u001b[49m\n\u001b[32m    612\u001b[39m \u001b[43m                \u001b[49m\u001b[33;43m\"\u001b[39;49m\u001b[33;43mmetadata\u001b[39;49m\u001b[33;43m\"\u001b[39;49m\u001b[43m:\u001b[49m\u001b[43m \u001b[49m\u001b[43mmetadata\u001b[49m\u001b[43m,\u001b[49m\n\u001b[32m    613\u001b[39m \u001b[43m                \u001b[49m\u001b[33;43m\"\u001b[39;49m\u001b[33;43mparallel_tool_calls\u001b[39;49m\u001b[33;43m\"\u001b[39;49m\u001b[43m:\u001b[49m\u001b[43m \u001b[49m\u001b[43mparallel_tool_calls\u001b[49m\u001b[43m,\u001b[49m\n\u001b[32m    614\u001b[39m \u001b[43m                \u001b[49m\u001b[33;43m\"\u001b[39;49m\u001b[33;43mprevious_response_id\u001b[39;49m\u001b[33;43m\"\u001b[39;49m\u001b[43m:\u001b[49m\u001b[43m \u001b[49m\u001b[43mprevious_response_id\u001b[49m\u001b[43m,\u001b[49m\n\u001b[32m    615\u001b[39m \u001b[43m                \u001b[49m\u001b[33;43m\"\u001b[39;49m\u001b[33;43mreasoning\u001b[39;49m\u001b[33;43m\"\u001b[39;49m\u001b[43m:\u001b[49m\u001b[43m \u001b[49m\u001b[43mreasoning\u001b[49m\u001b[43m,\u001b[49m\n\u001b[32m    616\u001b[39m \u001b[43m                \u001b[49m\u001b[33;43m\"\u001b[39;49m\u001b[33;43mstore\u001b[39;49m\u001b[33;43m\"\u001b[39;49m\u001b[43m:\u001b[49m\u001b[43m \u001b[49m\u001b[43mstore\u001b[49m\u001b[43m,\u001b[49m\n\u001b[32m    617\u001b[39m \u001b[43m                \u001b[49m\u001b[33;43m\"\u001b[39;49m\u001b[33;43mstream\u001b[39;49m\u001b[33;43m\"\u001b[39;49m\u001b[43m:\u001b[49m\u001b[43m \u001b[49m\u001b[43mstream\u001b[49m\u001b[43m,\u001b[49m\n\u001b[32m    618\u001b[39m \u001b[43m                \u001b[49m\u001b[33;43m\"\u001b[39;49m\u001b[33;43mtemperature\u001b[39;49m\u001b[33;43m\"\u001b[39;49m\u001b[43m:\u001b[49m\u001b[43m \u001b[49m\u001b[43mtemperature\u001b[49m\u001b[43m,\u001b[49m\n\u001b[32m    619\u001b[39m \u001b[43m                \u001b[49m\u001b[33;43m\"\u001b[39;49m\u001b[33;43mtext\u001b[39;49m\u001b[33;43m\"\u001b[39;49m\u001b[43m:\u001b[49m\u001b[43m \u001b[49m\u001b[43mtext\u001b[49m\u001b[43m,\u001b[49m\n\u001b[32m    620\u001b[39m \u001b[43m                \u001b[49m\u001b[33;43m\"\u001b[39;49m\u001b[33;43mtool_choice\u001b[39;49m\u001b[33;43m\"\u001b[39;49m\u001b[43m:\u001b[49m\u001b[43m \u001b[49m\u001b[43mtool_choice\u001b[49m\u001b[43m,\u001b[49m\n\u001b[32m    621\u001b[39m \u001b[43m                \u001b[49m\u001b[33;43m\"\u001b[39;49m\u001b[33;43mtools\u001b[39;49m\u001b[33;43m\"\u001b[39;49m\u001b[43m:\u001b[49m\u001b[43m \u001b[49m\u001b[43mtools\u001b[49m\u001b[43m,\u001b[49m\n\u001b[32m    622\u001b[39m \u001b[43m                \u001b[49m\u001b[33;43m\"\u001b[39;49m\u001b[33;43mtop_p\u001b[39;49m\u001b[33;43m\"\u001b[39;49m\u001b[43m:\u001b[49m\u001b[43m \u001b[49m\u001b[43mtop_p\u001b[49m\u001b[43m,\u001b[49m\n\u001b[32m    623\u001b[39m \u001b[43m                \u001b[49m\u001b[33;43m\"\u001b[39;49m\u001b[33;43mtruncation\u001b[39;49m\u001b[33;43m\"\u001b[39;49m\u001b[43m:\u001b[49m\u001b[43m \u001b[49m\u001b[43mtruncation\u001b[49m\u001b[43m,\u001b[49m\n\u001b[32m    624\u001b[39m \u001b[43m                \u001b[49m\u001b[33;43m\"\u001b[39;49m\u001b[33;43muser\u001b[39;49m\u001b[33;43m\"\u001b[39;49m\u001b[43m:\u001b[49m\u001b[43m \u001b[49m\u001b[43muser\u001b[49m\u001b[43m,\u001b[49m\n\u001b[32m    625\u001b[39m \u001b[43m            \u001b[49m\u001b[43m}\u001b[49m\u001b[43m,\u001b[49m\n\u001b[32m    626\u001b[39m \u001b[43m            \u001b[49m\u001b[43mresponse_create_params\u001b[49m\u001b[43m.\u001b[49m\u001b[43mResponseCreateParams\u001b[49m\u001b[43m,\u001b[49m\n\u001b[32m    627\u001b[39m \u001b[43m        \u001b[49m\u001b[43m)\u001b[49m\u001b[43m,\u001b[49m\n\u001b[32m    628\u001b[39m \u001b[43m        \u001b[49m\u001b[43moptions\u001b[49m\u001b[43m=\u001b[49m\u001b[43mmake_request_options\u001b[49m\u001b[43m(\u001b[49m\n\u001b[32m    629\u001b[39m \u001b[43m            \u001b[49m\u001b[43mextra_headers\u001b[49m\u001b[43m=\u001b[49m\u001b[43mextra_headers\u001b[49m\u001b[43m,\u001b[49m\u001b[43m \u001b[49m\u001b[43mextra_query\u001b[49m\u001b[43m=\u001b[49m\u001b[43mextra_query\u001b[49m\u001b[43m,\u001b[49m\u001b[43m \u001b[49m\u001b[43mextra_body\u001b[49m\u001b[43m=\u001b[49m\u001b[43mextra_body\u001b[49m\u001b[43m,\u001b[49m\u001b[43m \u001b[49m\u001b[43mtimeout\u001b[49m\u001b[43m=\u001b[49m\u001b[43mtimeout\u001b[49m\n\u001b[32m    630\u001b[39m \u001b[43m        \u001b[49m\u001b[43m)\u001b[49m\u001b[43m,\u001b[49m\n\u001b[32m    631\u001b[39m \u001b[43m        \u001b[49m\u001b[43mcast_to\u001b[49m\u001b[43m=\u001b[49m\u001b[43mResponse\u001b[49m\u001b[43m,\u001b[49m\n\u001b[32m    632\u001b[39m \u001b[43m        \u001b[49m\u001b[43mstream\u001b[49m\u001b[43m=\u001b[49m\u001b[43mstream\u001b[49m\u001b[43m \u001b[49m\u001b[38;5;129;43;01mor\u001b[39;49;00m\u001b[43m \u001b[49m\u001b[38;5;28;43;01mFalse\u001b[39;49;00m\u001b[43m,\u001b[49m\n\u001b[32m    633\u001b[39m \u001b[43m        \u001b[49m\u001b[43mstream_cls\u001b[49m\u001b[43m=\u001b[49m\u001b[43mStream\u001b[49m\u001b[43m[\u001b[49m\u001b[43mResponseStreamEvent\u001b[49m\u001b[43m]\u001b[49m\u001b[43m,\u001b[49m\n\u001b[32m    634\u001b[39m \u001b[43m    \u001b[49m\u001b[43m)\u001b[49m\n",
      "\u001b[36mFile \u001b[39m\u001b[32m~/Code/langchain-academy/.venv/lib/python3.12/site-packages/openai/_base_client.py:1242\u001b[39m, in \u001b[36mSyncAPIClient.post\u001b[39m\u001b[34m(self, path, cast_to, body, options, files, stream, stream_cls)\u001b[39m\n\u001b[32m   1228\u001b[39m \u001b[38;5;28;01mdef\u001b[39;00m\u001b[38;5;250m \u001b[39m\u001b[34mpost\u001b[39m(\n\u001b[32m   1229\u001b[39m     \u001b[38;5;28mself\u001b[39m,\n\u001b[32m   1230\u001b[39m     path: \u001b[38;5;28mstr\u001b[39m,\n\u001b[32m   (...)\u001b[39m\u001b[32m   1237\u001b[39m     stream_cls: \u001b[38;5;28mtype\u001b[39m[_StreamT] | \u001b[38;5;28;01mNone\u001b[39;00m = \u001b[38;5;28;01mNone\u001b[39;00m,\n\u001b[32m   1238\u001b[39m ) -> ResponseT | _StreamT:\n\u001b[32m   1239\u001b[39m     opts = FinalRequestOptions.construct(\n\u001b[32m   1240\u001b[39m         method=\u001b[33m\"\u001b[39m\u001b[33mpost\u001b[39m\u001b[33m\"\u001b[39m, url=path, json_data=body, files=to_httpx_files(files), **options\n\u001b[32m   1241\u001b[39m     )\n\u001b[32m-> \u001b[39m\u001b[32m1242\u001b[39m     \u001b[38;5;28;01mreturn\u001b[39;00m cast(ResponseT, \u001b[38;5;28;43mself\u001b[39;49m\u001b[43m.\u001b[49m\u001b[43mrequest\u001b[49m\u001b[43m(\u001b[49m\u001b[43mcast_to\u001b[49m\u001b[43m,\u001b[49m\u001b[43m \u001b[49m\u001b[43mopts\u001b[49m\u001b[43m,\u001b[49m\u001b[43m \u001b[49m\u001b[43mstream\u001b[49m\u001b[43m=\u001b[49m\u001b[43mstream\u001b[49m\u001b[43m,\u001b[49m\u001b[43m \u001b[49m\u001b[43mstream_cls\u001b[49m\u001b[43m=\u001b[49m\u001b[43mstream_cls\u001b[49m\u001b[43m)\u001b[49m)\n",
      "\u001b[36mFile \u001b[39m\u001b[32m~/Code/langchain-academy/.venv/lib/python3.12/site-packages/openai/_base_client.py:919\u001b[39m, in \u001b[36mSyncAPIClient.request\u001b[39m\u001b[34m(self, cast_to, options, remaining_retries, stream, stream_cls)\u001b[39m\n\u001b[32m    916\u001b[39m \u001b[38;5;28;01melse\u001b[39;00m:\n\u001b[32m    917\u001b[39m     retries_taken = \u001b[32m0\u001b[39m\n\u001b[32m--> \u001b[39m\u001b[32m919\u001b[39m \u001b[38;5;28;01mreturn\u001b[39;00m \u001b[38;5;28;43mself\u001b[39;49m\u001b[43m.\u001b[49m\u001b[43m_request\u001b[49m\u001b[43m(\u001b[49m\n\u001b[32m    920\u001b[39m \u001b[43m    \u001b[49m\u001b[43mcast_to\u001b[49m\u001b[43m=\u001b[49m\u001b[43mcast_to\u001b[49m\u001b[43m,\u001b[49m\n\u001b[32m    921\u001b[39m \u001b[43m    \u001b[49m\u001b[43moptions\u001b[49m\u001b[43m=\u001b[49m\u001b[43moptions\u001b[49m\u001b[43m,\u001b[49m\n\u001b[32m    922\u001b[39m \u001b[43m    \u001b[49m\u001b[43mstream\u001b[49m\u001b[43m=\u001b[49m\u001b[43mstream\u001b[49m\u001b[43m,\u001b[49m\n\u001b[32m    923\u001b[39m \u001b[43m    \u001b[49m\u001b[43mstream_cls\u001b[49m\u001b[43m=\u001b[49m\u001b[43mstream_cls\u001b[49m\u001b[43m,\u001b[49m\n\u001b[32m    924\u001b[39m \u001b[43m    \u001b[49m\u001b[43mretries_taken\u001b[49m\u001b[43m=\u001b[49m\u001b[43mretries_taken\u001b[49m\u001b[43m,\u001b[49m\n\u001b[32m    925\u001b[39m \u001b[43m\u001b[49m\u001b[43m)\u001b[49m\n",
      "\u001b[36mFile \u001b[39m\u001b[32m~/Code/langchain-academy/.venv/lib/python3.12/site-packages/openai/_base_client.py:1023\u001b[39m, in \u001b[36mSyncAPIClient._request\u001b[39m\u001b[34m(self, cast_to, options, retries_taken, stream, stream_cls)\u001b[39m\n\u001b[32m   1020\u001b[39m         err.response.read()\n\u001b[32m   1022\u001b[39m     log.debug(\u001b[33m\"\u001b[39m\u001b[33mRe-raising status error\u001b[39m\u001b[33m\"\u001b[39m)\n\u001b[32m-> \u001b[39m\u001b[32m1023\u001b[39m     \u001b[38;5;28;01mraise\u001b[39;00m \u001b[38;5;28mself\u001b[39m._make_status_error_from_response(err.response) \u001b[38;5;28;01mfrom\u001b[39;00m\u001b[38;5;250m \u001b[39m\u001b[38;5;28;01mNone\u001b[39;00m\n\u001b[32m   1025\u001b[39m \u001b[38;5;28;01mreturn\u001b[39;00m \u001b[38;5;28mself\u001b[39m._process_response(\n\u001b[32m   1026\u001b[39m     cast_to=cast_to,\n\u001b[32m   1027\u001b[39m     options=options,\n\u001b[32m   (...)\u001b[39m\u001b[32m   1031\u001b[39m     retries_taken=retries_taken,\n\u001b[32m   1032\u001b[39m )\n",
      "\u001b[31mBadRequestError\u001b[39m: Error code: 400 - {'error': {'message': \"The requested model 'o1-preview' does not exist.\", 'type': 'invalid_request_error', 'param': 'model', 'code': 'model_not_found'}}"
     ]
    }
   ],
   "source": [
    "from openai import OpenAI\n",
    "\n",
    "client = OpenAI()\n",
    "\n",
    "prompt = \"\"\"\n",
    "Write a bash script that takes a matrix represented as a string with \n",
    "format '[1,2],[3,4],[5,6]' and prints the transpose in the same format.\n",
    "\"\"\"\n",
    "\n",
    "response = client.responses.create(\n",
    "    model=\"o1\",\n",
    "    reasoning={\"effort\": \"medium\",\"generate_summary\":\"detailed\"},\n",
    "    input=[\n",
    "        {\n",
    "            \"role\": \"user\", \n",
    "            \"content\": prompt\n",
    "        }\n",
    "    ]\n",
    ")\n",
    "print(response.output_text)"
   ]
  },
  {
   "cell_type": "code",
   "execution_count": 4,
   "id": "ad1a1b57",
   "metadata": {},
   "outputs": [
    {
     "data": {
      "text/plain": [
       "Response(id='resp_67f5eb33a1b08192afb6499f2516c5af06a4da1ee505ea6a', created_at=1744169779.0, error=None, incomplete_details=None, instructions=None, metadata={}, model='o3-mini-2025-01-31', object='response', output=[ResponseReasoningItem(id='rs_67f5eb40fc288192811a9ea4fdd5034e06a4da1ee505ea6a', summary=[], type='reasoning', status=None), ResponseOutputMessage(id='msg_67f5eb4388748192b3bb1b952dce280506a4da1ee505ea6a', content=[ResponseOutputText(annotations=[], text='Below is one acceptable solution. Save the code to (for example) transpose.sh, give it execute permission (chmod +x transpose.sh), and then run it with a quoted argument such as\\n\\n\\u2003\\u2003./transpose.sh \"[1,2],[3,4],[5,6]\"\\n\\nThe script works by replacing the \"],[\"\\ndelimiters with a pipe (|) so that each row becomes isolated. It then splits each row on commas,\\nbuilds the transpose, and finally prints the transposed matrix in the same format.\\n\\nHere is the complete script:\\n\\n-------------------------------------------------------\\n#!/bin/bash\\n# A script to transpose a matrix given in the format: \"[1,2],[3,4],[5,6]\"\\n\\nif [ \"$#\" -ne 1 ]; then\\n  echo \"Usage: $0 \\\\\"[1,2],[3,4],[5,6]\\\\\"\"\\n  exit 1\\nfi\\n\\n# Read the input string\\nmatrix_str=\"$1\"\\n\\n# Remove the leading \"[\" and trailing \"]\" from the entire string.\\nmatrix_str=$(echo \"$matrix_str\" | sed \\'s/^\\\\[//; s/\\\\]$//\\')\\n# Replace \"],[\" with a pipe (|) to have each row separated by a unique delimiter.\\nmatrix_str=$(echo \"$matrix_str\" | sed \\'s/\\\\],\\\\[/|/g\\')\\n\\n# Split the string into rows using the pipe as a delimiter.\\nIFS=\\'|\\' read -ra rows <<< \"$matrix_str\"\\nnum_rows=${#rows[@]}\\n\\n# Get the number of columns from the first row.\\nIFS=\\',\\' read -ra first_row <<< \"${rows[0]}\"\\nnum_cols=${#first_row[@]}\\n\\n# Prepare an array to hold the transposed rows.\\ndeclare -a transposed\\n\\n# For each column (which becomes a row in the transpose)\\nfor ((col=0; col<num_cols; col++)); do\\n  # Build a new row for the transpose.\\n  row_vals=()\\n  for ((row=0; row<num_rows; row++)); do\\n    # Split the current row by commas.\\n    IFS=\\',\\' read -ra elems <<< \"${rows[row]}\"\\n    row_vals+=( \"${elems[col]}\" )\\n  done\\n  # Join the row values with comma separation.\\n  row_str=$(IFS=\\',\\'; echo \"${row_vals[*]}\")\\n  # Enclose in square brackets\\n  transposed+=( \"[$row_str]\" )\\ndone\\n\\n# Join the transposed rows with commas.\\nresult=$(IFS=\\',\\'; echo \"${transposed[*]}\")\\necho \"$result\"\\n\\n-------------------------------------------------------\\n\\nHow it works:\\n\\n1. The script first checks that exactly one argument (the matrix string) is passed.\\n\\n2. It then cleans up the input string:\\n\\u2003\\u2003– Removes the outermost \"[\" and \"]\".\\n\\u2003\\u2003– Replaces \"],[\" with \"|\" so that each row is separated by a pipe.\\n\\n3. It splits the modified string into an array of rows.\\n\\n4. It determines the number of columns by splitting the first row on commas.\\n\\n5. It then loops over each column index (0 to num_cols–1). For each column it loops\\n   over each row, extracting the appropriate element and building a new “row” of the transposed matrix.\\n\\n6. Finally, it prints the transposed matrix in the same \"[…],[…]\" format.\\n\\nRunning\\n\\u2003\\u2003./transpose.sh \"[1,2],[3,4],[5,6]\"\\nproduces the output:\\n\\u2003\\u2003[1,3,5],[2,4,6]\\n\\nAny correct solution that produces the transpose in the specified format is acceptable.', type='output_text')], role='assistant', status='completed', type='message')], parallel_tool_calls=True, temperature=1.0, tool_choice='auto', tools=[], top_p=1.0, max_output_tokens=None, previous_response_id=None, reasoning=Reasoning(effort='medium', generate_summary=None), status='completed', text=ResponseTextConfig(format=ResponseFormatText(type='text')), truncation='disabled', usage=ResponseUsage(input_tokens=44, input_tokens_details=InputTokensDetails(cached_tokens=0), output_tokens=2084, output_tokens_details=OutputTokensDetails(reasoning_tokens=1344), total_tokens=2128), user=None, store=True)"
      ]
     },
     "execution_count": 4,
     "metadata": {},
     "output_type": "execute_result"
    }
   ],
   "source": [
    "response"
   ]
  },
  {
   "cell_type": "code",
   "execution_count": 5,
   "id": "445041c9",
   "metadata": {},
   "outputs": [
    {
     "name": "stdout",
     "output_type": "stream",
     "text": [
      "Response(id='resp_67f5eb33a1b08192afb6499f2516c5af06a4da1ee505ea6a', created_at=1744169779.0, error=None, incomplete_details=None, instructions=None, metadata={}, model='o3-mini-2025-01-31', object='response', output=[ResponseReasoningItem(id='rs_67f5eb40fc288192811a9ea4fdd5034e06a4da1ee505ea6a', summary=[], type='reasoning', status=None), ResponseOutputMessage(id='msg_67f5eb4388748192b3bb1b952dce280506a4da1ee505ea6a', content=[ResponseOutputText(annotations=[], text='Below is one acceptable solution. Save the code to (for example) transpose.sh, give it execute permission (chmod +x transpose.sh), and then run it with a quoted argument such as\\n\\n\\u2003\\u2003./transpose.sh \"[1,2],[3,4],[5,6]\"\\n\\nThe script works by replacing the \"],[\"\\ndelimiters with a pipe (|) so that each row becomes isolated. It then splits each row on commas,\\nbuilds the transpose, and finally prints the transposed matrix in the same format.\\n\\nHere is the complete script:\\n\\n-------------------------------------------------------\\n#!/bin/bash\\n# A script to transpose a matrix given in the format: \"[1,2],[3,4],[5,6]\"\\n\\nif [ \"$#\" -ne 1 ]; then\\n  echo \"Usage: $0 \\\\\"[1,2],[3,4],[5,6]\\\\\"\"\\n  exit 1\\nfi\\n\\n# Read the input string\\nmatrix_str=\"$1\"\\n\\n# Remove the leading \"[\" and trailing \"]\" from the entire string.\\nmatrix_str=$(echo \"$matrix_str\" | sed \\'s/^\\\\[//; s/\\\\]$//\\')\\n# Replace \"],[\" with a pipe (|) to have each row separated by a unique delimiter.\\nmatrix_str=$(echo \"$matrix_str\" | sed \\'s/\\\\],\\\\[/|/g\\')\\n\\n# Split the string into rows using the pipe as a delimiter.\\nIFS=\\'|\\' read -ra rows <<< \"$matrix_str\"\\nnum_rows=${#rows[@]}\\n\\n# Get the number of columns from the first row.\\nIFS=\\',\\' read -ra first_row <<< \"${rows[0]}\"\\nnum_cols=${#first_row[@]}\\n\\n# Prepare an array to hold the transposed rows.\\ndeclare -a transposed\\n\\n# For each column (which becomes a row in the transpose)\\nfor ((col=0; col<num_cols; col++)); do\\n  # Build a new row for the transpose.\\n  row_vals=()\\n  for ((row=0; row<num_rows; row++)); do\\n    # Split the current row by commas.\\n    IFS=\\',\\' read -ra elems <<< \"${rows[row]}\"\\n    row_vals+=( \"${elems[col]}\" )\\n  done\\n  # Join the row values with comma separation.\\n  row_str=$(IFS=\\',\\'; echo \"${row_vals[*]}\")\\n  # Enclose in square brackets\\n  transposed+=( \"[$row_str]\" )\\ndone\\n\\n# Join the transposed rows with commas.\\nresult=$(IFS=\\',\\'; echo \"${transposed[*]}\")\\necho \"$result\"\\n\\n-------------------------------------------------------\\n\\nHow it works:\\n\\n1. The script first checks that exactly one argument (the matrix string) is passed.\\n\\n2. It then cleans up the input string:\\n\\u2003\\u2003– Removes the outermost \"[\" and \"]\".\\n\\u2003\\u2003– Replaces \"],[\" with \"|\" so that each row is separated by a pipe.\\n\\n3. It splits the modified string into an array of rows.\\n\\n4. It determines the number of columns by splitting the first row on commas.\\n\\n5. It then loops over each column index (0 to num_cols–1). For each column it loops\\n   over each row, extracting the appropriate element and building a new “row” of the transposed matrix.\\n\\n6. Finally, it prints the transposed matrix in the same \"[…],[…]\" format.\\n\\nRunning\\n\\u2003\\u2003./transpose.sh \"[1,2],[3,4],[5,6]\"\\nproduces the output:\\n\\u2003\\u2003[1,3,5],[2,4,6]\\n\\nAny correct solution that produces the transpose in the specified format is acceptable.', type='output_text')], role='assistant', status='completed', type='message')], parallel_tool_calls=True, temperature=1.0, tool_choice='auto', tools=[], top_p=1.0, max_output_tokens=None, previous_response_id=None, reasoning=Reasoning(effort='medium', generate_summary=None), status='completed', text=ResponseTextConfig(format=ResponseFormatText(type='text')), truncation='disabled', usage=ResponseUsage(input_tokens=44, input_tokens_details=InputTokensDetails(cached_tokens=0), output_tokens=2084, output_tokens_details=OutputTokensDetails(reasoning_tokens=1344), total_tokens=2128), user=None, store=True)\n"
     ]
    }
   ],
   "source": [
    "print(response)"
   ]
  },
  {
   "cell_type": "code",
   "execution_count": 25,
   "id": "d160e2bb",
   "metadata": {},
   "outputs": [
    {
     "name": "stdout",
     "output_type": "stream",
     "text": [
      "Response(id='resp_67f5eb33a1b08192afb6499f2516c5af06a4da1ee505ea6a', created_at=1744169779.0, error=None, incomplete_details=None, instructions=None, metadata={}, model='o3-mini-2025-01-31', object='response', output=[ResponseReasoningItem(id='rs_67f5eb40fc288192811a9ea4fdd5034e06a4da1ee505ea6a', summary=[], type='reasoning', status=None), ResponseOutputMessage(id='msg_67f5eb4388748192b3bb1b952dce280506a4da1ee505ea6a', content=[ResponseOutputText(annotations=[], text='Below is one acceptable solution. Save the code to (for example) transpose.sh, give it execute permission (chmod +x transpose.sh), and then run it with a quoted argument such as\\n\\n\\u2003\\u2003./transpose.sh \"[1,2],[3,4],[5,6]\"\\n\\nThe script works by replacing the \"],[\"\\ndelimiters with a pipe (|) so that each row becomes isolated. It then splits each row on commas,\\nbuilds the transpose, and finally prints the transposed matrix in the same format.\\n\\nHere is the complete script:\\n\\n-------------------------------------------------------\\n#!/bin/bash\\n# A script to transpose a matrix given in the format: \"[1,2],[3,4],[5,6]\"\\n\\nif [ \"$#\" -ne 1 ]; then\\n  echo \"Usage: $0 \\\\\"[1,2],[3,4],[5,6]\\\\\"\"\\n  exit 1\\nfi\\n\\n# Read the input string\\nmatrix_str=\"$1\"\\n\\n# Remove the leading \"[\" and trailing \"]\" from the entire string.\\nmatrix_str=$(echo \"$matrix_str\" | sed \\'s/^\\\\[//; s/\\\\]$//\\')\\n# Replace \"],[\" with a pipe (|) to have each row separated by a unique delimiter.\\nmatrix_str=$(echo \"$matrix_str\" | sed \\'s/\\\\],\\\\[/|/g\\')\\n\\n# Split the string into rows using the pipe as a delimiter.\\nIFS=\\'|\\' read -ra rows <<< \"$matrix_str\"\\nnum_rows=${#rows[@]}\\n\\n# Get the number of columns from the first row.\\nIFS=\\',\\' read -ra first_row <<< \"${rows[0]}\"\\nnum_cols=${#first_row[@]}\\n\\n# Prepare an array to hold the transposed rows.\\ndeclare -a transposed\\n\\n# For each column (which becomes a row in the transpose)\\nfor ((col=0; col<num_cols; col++)); do\\n  # Build a new row for the transpose.\\n  row_vals=()\\n  for ((row=0; row<num_rows; row++)); do\\n    # Split the current row by commas.\\n    IFS=\\',\\' read -ra elems <<< \"${rows[row]}\"\\n    row_vals+=( \"${elems[col]}\" )\\n  done\\n  # Join the row values with comma separation.\\n  row_str=$(IFS=\\',\\'; echo \"${row_vals[*]}\")\\n  # Enclose in square brackets\\n  transposed+=( \"[$row_str]\" )\\ndone\\n\\n# Join the transposed rows with commas.\\nresult=$(IFS=\\',\\'; echo \"${transposed[*]}\")\\necho \"$result\"\\n\\n-------------------------------------------------------\\n\\nHow it works:\\n\\n1. The script first checks that exactly one argument (the matrix string) is passed.\\n\\n2. It then cleans up the input string:\\n\\u2003\\u2003– Removes the outermost \"[\" and \"]\".\\n\\u2003\\u2003– Replaces \"],[\" with \"|\" so that each row is separated by a pipe.\\n\\n3. It splits the modified string into an array of rows.\\n\\n4. It determines the number of columns by splitting the first row on commas.\\n\\n5. It then loops over each column index (0 to num_cols–1). For each column it loops\\n   over each row, extracting the appropriate element and building a new “row” of the transposed matrix.\\n\\n6. Finally, it prints the transposed matrix in the same \"[…],[…]\" format.\\n\\nRunning\\n\\u2003\\u2003./transpose.sh \"[1,2],[3,4],[5,6]\"\\nproduces the output:\\n\\u2003\\u2003[1,3,5],[2,4,6]\\n\\nAny correct solution that produces the transpose in the specified format is acceptable.', type='output_text')], role='assistant', status='completed', type='message')], parallel_tool_calls=True, temperature=1.0, tool_choice='auto', tools=[], top_p=1.0, max_output_tokens=None, previous_response_id=None, reasoning=Reasoning(effort='medium', generate_summary=None), status='completed', text=ResponseTextConfig(format=ResponseFormatText(type='text')), truncation='disabled', usage=ResponseUsage(input_tokens=44, input_tokens_details=InputTokensDetails(cached_tokens=0), output_tokens=2084, output_tokens_details=OutputTokensDetails(reasoning_tokens=1344), total_tokens=2128), user=None, store=True)\n"
     ]
    }
   ],
   "source": [
    "print(response)"
   ]
  },
  {
   "cell_type": "code",
   "execution_count": null,
   "id": "872a0204",
   "metadata": {},
   "outputs": [],
   "source": [
    "Response(id='resp_67f5eb33a1b08192afb6499f2516c5af06a4da1ee505ea6a', created_at=1744169779.0, error=None, incomplete_details=None, instructions=None,\n",
    "          metadata={}, model='o3-mini-2025-01-31', object='response', output=[ResponseReasoningItem(id='rs_67f5eb40fc288192811a9ea4fdd5034e06a4da1ee505ea6a',\n",
    "                                                                                                     summary=[], type='reasoning', status=None), \n",
    "ResponseOutputMessage(id='msg_67f5eb4388748192b3bb1b952dce280506a4da1ee505ea6a', \n",
    "content=[ResponseOutputText(annotations=[], \n",
    "text='Below is one acceptable solution. Save the code to (for example) transpose.sh, give it execute permission (chmod +x transpose.sh), \n",
    "and then run it with a quoted argument such as\\n\\n\\u2003\\u2003./transpose.sh \"[1,2],[3,4],[5,6]\"\\n\\nThe script works by replacing the \"],\n",
    "[\"\\ndelimiters with a pipe (|) so that each row becomes isolated. It then splits each row on commas,\\nbuilds the transpose, and finally print\n",
    " s the transposed matrix in the same format.\\n\\nHere is the complete script:\\n\\n-------------------------------------------------------\\n#!/bin/b\n",
    " ash\\n# A script to transpose a matrix given in the format: \"[1,2],[3,4],[5,6]\"\\n\\nif [ \"$#\" -ne 1 ]; then\\n  echo \"Usage: $0 \\\\\"[1,2],[3,4],[5,6]\\\\\"\"\n",
    " \\n  exit 1\\nfi\\n\\n# Read the input string\\nmatrix_str=\"$1\"\\n\\n# Remove the leading \"[\" and trailing \"]\" from the entire string.\\nmatrix_str=$(echo \"$mat\n",
    " rix_str\" | sed \\'s/^\\\\[//; s/\\\\]$//\\')\\n# Replace \"],[\" with a pipe (|) to have each row separated by a unique delimiter.\\nmatrix_str=$(echo \"$matrix_str\"\n",
    "                                                        | sed \\'s/\\\\],\\\\[/|/g\\')\\n\\n# Split the string into rows using the pipe as a delimiter.\\nIFS=\\'|\\' r\n",
    "                                                        ead -ra rows <<< \"$matrix_str\"\\nnum_rows=${#rows[@]}\\n\\n# Get the number of columns from the first row\n",
    "                                                        .\\nIFS=\\',\\' read -ra first_row <<< \"${rows[0]}\"\\nnum_cols=${#first_row[@]}\\n\\n# Prepare an array to hold\n",
    "                                                          the transposed rows.\\ndeclare -a transposed\\n\\n# For each column (which becomes a row in the\n",
    "                                                                                                                             transpose)\\nfor ((col=0; col<\n",
    "                                                                                                                                               num_cols; col++)\n",
    " row for the transpose.\\n  row_vals=()\\n  for ((row=0; row<num_rows; row++)); do\\n   \n",
    "   # Split the current row by commas.\\n    IFS=\\',\\' read -ra elems <<< \"${rows[row]}\"\\n    row_vals+=( \"${elems[col]}\" )\\n  \n",
    "   # done\\n  # Join the row values with comma separation.\\n  row_str=$(IFS=\\',\\'; echo \"${row_vals[*]}\")\\n  \n",
    "   # # Enclose in square brackets\\n  transposed+=( \"[$row_str]\" )\\ndone\\n\\n# Join the transposed rows with commas.\\n\n",
    "   # result=$(IFS=\\',\\'; echo \"${transposed[*]}\")\\necho \"$result\"\\n\\n-------------------------------------------------------\\\n",
    "   # n\\nHow it works:\\n\\n1. The script first checks that exactly one argument (the matrix string) is passed.\\n\\n2. It then cleans up the input string:\\n\\u200\n",
    "   # 3\\u2003– Removes the outermost \"[\" and \"]\".\\n\\u2003\\u2003– Replaces \"],[\" with \"|\" so that each row is separated by a pipe.\\n\\n3. It splits the modified str\n",
    "   # ing into an array of rows.\\n\\n4. It determines the number of columns by splitting the first row on commas.\\n\\n5. It then loops over each column index (0 to num_c\n",
    "   # ols–1). For each column it loops\\n   over each row, extracting the appropriate element and building a new “row” of the transposed matrix.\\n\\n6. Fin\n",
    "   # ally, it prints the transposed matrix in the same \"[…],[…]\" format.\\n\\nRunning\\n\\u2003\\u2003./transpose.sh \"[1,2],[3,4],[5,6]\"\\nproduces the output:\\n\\u2\n",
    "   # 003\\u2003[1,3,5],[2,4,6]\\n\\nAny correct solution that produces the transpose in the specified format is acceptable.', type='output_text')], role='assistant', st\n",
    "   # atus='completed', type='message')], parallel_tool_calls=True, temperature=1.0, tool_choice='auto', tools=[], top_p=1.0, max_output_tokens=None, previous_response\n",
    "   # _id=None, reasoning=Reasoning(effort='medium', generate_summary=None), status='completed', text=ResponseTextConfig(format=ResponseFormatText(type='text')), \n",
    "         truncation='disabled', \n",
    "         usage=ResponseUsage(input_tokens=44, input_tokens_details=InputTokensDetails(cached_tokens=0), output_tokens=2084,\n",
    "                              output_tokens_details=OutputTokensDetails(reasoning_tokens=1344), total_tokens=2128), user=None, store=True)"
   ]
  }
 ],
 "metadata": {
  "kernelspec": {
   "display_name": ".venv",
   "language": "python",
   "name": "python3"
  },
  "language_info": {
   "codemirror_mode": {
    "name": "ipython",
    "version": 3
   },
   "file_extension": ".py",
   "mimetype": "text/x-python",
   "name": "python",
   "nbconvert_exporter": "python",
   "pygments_lexer": "ipython3",
   "version": "3.12.2"
  }
 },
 "nbformat": 4,
 "nbformat_minor": 5
}
